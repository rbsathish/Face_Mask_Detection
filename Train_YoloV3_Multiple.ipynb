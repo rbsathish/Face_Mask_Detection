{
  "nbformat": 4,
  "nbformat_minor": 0,
  "metadata": {
    "colab": {
      "name": "Train_YoloV3_Multiple.ipynb",
      "provenance": [],
      "collapsed_sections": []
    },
    "kernelspec": {
      "name": "python3",
      "display_name": "Python 3"
    },
    "accelerator": "GPU"
  },
  "cells": [
    {
      "cell_type": "markdown",
      "metadata": {
        "id": "wHBQcQzjD6HJ",
        "colab_type": "text"
      },
      "source": [
        "**Connect google drive**"
      ]
    },
    {
      "cell_type": "code",
      "metadata": {
        "id": "bwp6NIrsZZFP",
        "colab_type": "code",
        "colab": {
          "base_uri": "https://localhost:8080/",
          "height": 364
        },
        "outputId": "24b98267-802f-40a8-f079-aa01d0a3ca2c"
      },
      "source": [
        "# Check if NVIDIA GPU is enabled\n",
        "!nvidia-smi"
      ],
      "execution_count": null,
      "outputs": [
        {
          "output_type": "stream",
          "text": [
            "Mon Sep 21 11:25:09 2020       \n",
            "+-----------------------------------------------------------------------------+\n",
            "| NVIDIA-SMI 450.66       Driver Version: 418.67       CUDA Version: 10.1     |\n",
            "|-------------------------------+----------------------+----------------------+\n",
            "| GPU  Name        Persistence-M| Bus-Id        Disp.A | Volatile Uncorr. ECC |\n",
            "| Fan  Temp  Perf  Pwr:Usage/Cap|         Memory-Usage | GPU-Util  Compute M. |\n",
            "|                               |                      |               MIG M. |\n",
            "|===============================+======================+======================|\n",
            "|   0  Tesla P100-PCIE...  Off  | 00000000:00:04.0 Off |                    0 |\n",
            "| N/A   35C    P0    26W / 250W |      0MiB / 16280MiB |      0%      Default |\n",
            "|                               |                      |                 ERR! |\n",
            "+-------------------------------+----------------------+----------------------+\n",
            "                                                                               \n",
            "+-----------------------------------------------------------------------------+\n",
            "| Processes:                                                                  |\n",
            "|  GPU   GI   CI        PID   Type   Process name                  GPU Memory |\n",
            "|        ID   ID                                                   Usage      |\n",
            "|=============================================================================|\n",
            "|  No running processes found                                                 |\n",
            "+-----------------------------------------------------------------------------+\n"
          ],
          "name": "stdout"
        }
      ]
    },
    {
      "cell_type": "code",
      "metadata": {
        "id": "9e9ZW3sqMEPO",
        "colab_type": "code",
        "colab": {}
      },
      "source": [
        "from google.colab import drive\n",
        "drive.mount('/content/gdrive')\n",
        "!ln -s /content/gdrive/My\\ Drive/ /mydrive\n",
        "!ls /mydrive"
      ],
      "execution_count": null,
      "outputs": []
    },
    {
      "cell_type": "markdown",
      "metadata": {
        "id": "t7utW4in4azV",
        "colab_type": "text"
      },
      "source": [
        "**1) Clone, configure & compile Darknet**\n",
        "\n"
      ]
    },
    {
      "cell_type": "code",
      "metadata": {
        "id": "e03U7Zi-qMr2",
        "colab_type": "code",
        "colab": {
          "base_uri": "https://localhost:8080/",
          "height": 138
        },
        "outputId": "29f81ca6-1a42-4b6c-8027-6914cba88174"
      },
      "source": [
        "# Clone\n",
        "!git clone https://github.com/AlexeyAB/darknet"
      ],
      "execution_count": null,
      "outputs": [
        {
          "output_type": "stream",
          "text": [
            "Cloning into 'darknet'...\n",
            "remote: Enumerating objects: 18, done.\u001b[K\n",
            "remote: Counting objects: 100% (18/18), done.\u001b[K\n",
            "remote: Compressing objects: 100% (16/16), done.\u001b[K\n",
            "remote: Total 14309 (delta 2), reused 5 (delta 2), pack-reused 14291\u001b[K\n",
            "Receiving objects: 100% (14309/14309), 12.94 MiB | 20.05 MiB/s, done.\n",
            "Resolving deltas: 100% (9753/9753), done.\n"
          ],
          "name": "stdout"
        }
      ]
    },
    {
      "cell_type": "code",
      "metadata": {
        "id": "7hzfEWSuONhz",
        "colab_type": "code",
        "colab": {
          "base_uri": "https://localhost:8080/",
          "height": 34
        },
        "outputId": "2a851479-ebee-44c6-82c5-63c0bdf6e59f"
      },
      "source": [
        "# Configure\n",
        "%cd darknet\n",
        "!sed -i 's/OPENCV=0/OPENCV=1/' Makefile\n",
        "!sed -i 's/GPU=0/GPU=1/' Makefile\n",
        "!sed -i 's/CUDNN=0/CUDNN=1/' Makefile"
      ],
      "execution_count": null,
      "outputs": [
        {
          "output_type": "stream",
          "text": [
            "/content/darknet\n"
          ],
          "name": "stdout"
        }
      ]
    },
    {
      "cell_type": "code",
      "metadata": {
        "id": "EBBokOq5OOA5",
        "colab_type": "code",
        "colab": {}
      },
      "source": [
        "# Compile\n",
        "!make"
      ],
      "execution_count": null,
      "outputs": []
    },
    {
      "cell_type": "markdown",
      "metadata": {
        "id": "gAOLtA_qI9vF",
        "colab_type": "text"
      },
      "source": [
        "**2) Configure yolov3.cfg file**"
      ]
    },
    {
      "cell_type": "code",
      "metadata": {
        "id": "s-RpscgU853t",
        "colab_type": "code",
        "colab": {}
      },
      "source": [
        "# Make a copy of yolov3.cfg\n",
        "!cp cfg/yolov3.cfg cfg/yolov3_training.cfg"
      ],
      "execution_count": null,
      "outputs": []
    },
    {
      "cell_type": "code",
      "metadata": {
        "id": "5ZgVQRop_vwR",
        "colab_type": "code",
        "colab": {}
      },
      "source": [
        "# Change lines in yolov3.cfg file\n",
        "!sed -i 's/batch=1/batch=64/' cfg/yolov3_training.cfg\n",
        "!sed -i 's/subdivisions=1/subdivisions=16/' cfg/yolov3_training.cfg\n",
        "!sed -i 's/max_batches = 500200/max_batches = 6000/' cfg/yolov3_training.cfg\n",
        "!sed -i '610 s@classes=80@classes=3@' cfg/yolov3_training.cfg\n",
        "!sed -i '696 s@classes=80@classes=3@' cfg/yolov3_training.cfg\n",
        "!sed -i '783 s@classes=80@classes=3@' cfg/yolov3_training.cfg\n",
        "!sed -i '603 s@filters=255@filters=24@' cfg/yolov3_training.cfg\n",
        "!sed -i '689 s@filters=255@filters=24@' cfg/yolov3_training.cfg\n",
        "!sed -i '776 s@filters=255@filters=24@' cfg/yolov3_training.cfg"
      ],
      "execution_count": null,
      "outputs": []
    },
    {
      "cell_type": "markdown",
      "metadata": {
        "id": "88p9BIjkPTRv",
        "colab_type": "text"
      },
      "source": [
        "**3) Create .names and .data files**"
      ]
    },
    {
      "cell_type": "code",
      "metadata": {
        "id": "7AIBw_psIclz",
        "colab_type": "code",
        "colab": {}
      },
      "source": [
        "!echo -e 'with_mask\\nwithout_mask\\nmask_weared_incorrect' > data/obj.names\n",
        "!echo -e 'classes= 3\\ntrain  = data/train.txt\\nvalid  = data/test.txt\\nnames = data/obj.names\\nbackup = /mydrive/yolov3' > data/obj.data"
      ],
      "execution_count": null,
      "outputs": []
    },
    {
      "cell_type": "markdown",
      "metadata": {
        "id": "dqFFqbUJMtN-",
        "colab_type": "text"
      },
      "source": [
        "**4) Save yolov3_training.cfg and obj.names files in Google drive**"
      ]
    },
    {
      "cell_type": "code",
      "metadata": {
        "id": "67o96gV7L0Uv",
        "colab_type": "code",
        "colab": {}
      },
      "source": [
        "!cp cfg/yolov3_training.cfg /mydrive/yolov3/yolov3_testing.cfg\n",
        "!cp data/obj.names /mydrive/yolov3/classes.txt"
      ],
      "execution_count": null,
      "outputs": []
    },
    {
      "cell_type": "markdown",
      "metadata": {
        "id": "9RbVKJjoncW2",
        "colab_type": "text"
      },
      "source": [
        "**5) Create a folder and unzip image dataset**"
      ]
    },
    {
      "cell_type": "code",
      "metadata": {
        "id": "eZlkzFMW7I_N",
        "colab_type": "code",
        "colab": {}
      },
      "source": [
        "!mkdir data/obj\n",
        "!unzip /mydrive/yolov3/images.zip -d data/obj"
      ],
      "execution_count": null,
      "outputs": []
    },
    {
      "cell_type": "markdown",
      "metadata": {
        "id": "ogBdNwRaZ50U",
        "colab_type": "text"
      },
      "source": [
        "**6) Create train.txt file**"
      ]
    },
    {
      "cell_type": "code",
      "metadata": {
        "id": "DGUyXxeYX0IP",
        "colab_type": "code",
        "colab": {}
      },
      "source": [
        "import glob\n",
        "images_list = glob.glob(\"data/obj/*.png\")\n",
        "with open(\"data/train.txt\", \"w\") as f:\n",
        "    f.write(\"\\n\".join(images_list))"
      ],
      "execution_count": null,
      "outputs": []
    },
    {
      "cell_type": "markdown",
      "metadata": {
        "id": "084L-LLPqxQe",
        "colab_type": "text"
      },
      "source": [
        "**7) Download pre-trained weights for the convolutional layers file**"
      ]
    },
    {
      "cell_type": "code",
      "metadata": {
        "id": "jhb5nZvsQ_96",
        "colab_type": "code",
        "colab": {
          "base_uri": "https://localhost:8080/",
          "height": 208
        },
        "outputId": "d8432e52-3990-4577-f596-1b536234ef71"
      },
      "source": [
        "!wget https://pjreddie.com/media/files/darknet53.conv.74"
      ],
      "execution_count": null,
      "outputs": [
        {
          "output_type": "stream",
          "text": [
            "--2020-09-21 11:39:30--  https://pjreddie.com/media/files/darknet53.conv.74\n",
            "Resolving pjreddie.com (pjreddie.com)... 128.208.4.108\n",
            "Connecting to pjreddie.com (pjreddie.com)|128.208.4.108|:443... connected.\n",
            "HTTP request sent, awaiting response... 200 OK\n",
            "Length: 162482580 (155M) [application/octet-stream]\n",
            "Saving to: ‘darknet53.conv.74’\n",
            "\n",
            "darknet53.conv.74   100%[===================>] 154.96M   473KB/s    in 8m 27s  \n",
            "\n",
            "2020-09-21 11:47:58 (313 KB/s) - ‘darknet53.conv.74’ saved [162482580/162482580]\n",
            "\n"
          ],
          "name": "stdout"
        }
      ]
    },
    {
      "cell_type": "markdown",
      "metadata": {
        "id": "CeSiuLrXoAjc",
        "colab_type": "text"
      },
      "source": [
        "**8) Start training**"
      ]
    },
    {
      "cell_type": "code",
      "metadata": {
        "id": "S3_g3jclUzMm",
        "colab_type": "code",
        "colab": {
          "base_uri": "https://localhost:8080/",
          "height": 1000
        },
        "outputId": "2d0fd532-f1f7-4007-93a7-d9b20051571f"
      },
      "source": [
        "!./darknet detector train data/obj.data cfg/yolov3_training.cfg darknet53.conv.74 -dont_show\n",
        "# Uncomment below and comment above to re-start your training from last saved weights\n",
        "#!./darknet detector train data/obj.data cfg/yolov3_training.cfg /mydrive/yolov3/yolov3_training_last.weights -dont_show"
      ],
      "execution_count": null,
      "outputs": [
        {
          "output_type": "stream",
          "text": [
            " CUDA-version: 10010 (10010), cuDNN: 7.6.5, GPU count: 1  \n",
            " OpenCV version: 3.2.0\n",
            "yolov3_training\n",
            " 0 : compute_capability = 600, cudnn_half = 0, GPU: Tesla P100-PCIE-16GB \n",
            "net.optimized_memory = 0 \n",
            "mini_batch = 4, batch = 64, time_steps = 1, train = 1 \n",
            "   layer   filters  size/strd(dil)      input                output\n",
            "   0 conv     32       3 x 3/ 1    416 x 416 x   3 ->  416 x 416 x  32 0.299 BF\n",
            "   1 conv     64       3 x 3/ 2    416 x 416 x  32 ->  208 x 208 x  64 1.595 BF\n",
            "   2 conv     32       1 x 1/ 1    208 x 208 x  64 ->  208 x 208 x  32 0.177 BF\n",
            "   3 conv     64       3 x 3/ 1    208 x 208 x  32 ->  208 x 208 x  64 1.595 BF\n",
            "   4 Shortcut Layer: 1,  wt = 0, wn = 0, outputs: 208 x 208 x  64 0.003 BF\n",
            "   5 conv    128       3 x 3/ 2    208 x 208 x  64 ->  104 x 104 x 128 1.595 BF\n",
            "   6 conv     64       1 x 1/ 1    104 x 104 x 128 ->  104 x 104 x  64 0.177 BF\n",
            "   7 conv    128       3 x 3/ 1    104 x 104 x  64 ->  104 x 104 x 128 1.595 BF\n",
            "   8 Shortcut Layer: 5,  wt = 0, wn = 0, outputs: 104 x 104 x 128 0.001 BF\n",
            "   9 conv     64       1 x 1/ 1    104 x 104 x 128 ->  104 x 104 x  64 0.177 BF\n",
            "  10 conv    128       3 x 3/ 1    104 x 104 x  64 ->  104 x 104 x 128 1.595 BF\n",
            "  11 Shortcut Layer: 8,  wt = 0, wn = 0, outputs: 104 x 104 x 128 0.001 BF\n",
            "  12 conv    256       3 x 3/ 2    104 x 104 x 128 ->   52 x  52 x 256 1.595 BF\n",
            "  13 conv    128       1 x 1/ 1     52 x  52 x 256 ->   52 x  52 x 128 0.177 BF\n",
            "  14 conv    256       3 x 3/ 1     52 x  52 x 128 ->   52 x  52 x 256 1.595 BF\n",
            "  15 Shortcut Layer: 12,  wt = 0, wn = 0, outputs:  52 x  52 x 256 0.001 BF\n",
            "  16 conv    128       1 x 1/ 1     52 x  52 x 256 ->   52 x  52 x 128 0.177 BF\n",
            "  17 conv    256       3 x 3/ 1     52 x  52 x 128 ->   52 x  52 x 256 1.595 BF\n",
            "  18 Shortcut Layer: 15,  wt = 0, wn = 0, outputs:  52 x  52 x 256 0.001 BF\n",
            "  19 conv    128       1 x 1/ 1     52 x  52 x 256 ->   52 x  52 x 128 0.177 BF\n",
            "  20 conv    256       3 x 3/ 1     52 x  52 x 128 ->   52 x  52 x 256 1.595 BF\n",
            "  21 Shortcut Layer: 18,  wt = 0, wn = 0, outputs:  52 x  52 x 256 0.001 BF\n",
            "  22 conv    128       1 x 1/ 1     52 x  52 x 256 ->   52 x  52 x 128 0.177 BF\n",
            "  23 conv    256       3 x 3/ 1     52 x  52 x 128 ->   52 x  52 x 256 1.595 BF\n",
            "  24 Shortcut Layer: 21,  wt = 0, wn = 0, outputs:  52 x  52 x 256 0.001 BF\n",
            "  25 conv    128       1 x 1/ 1     52 x  52 x 256 ->   52 x  52 x 128 0.177 BF\n",
            "  26 conv    256       3 x 3/ 1     52 x  52 x 128 ->   52 x  52 x 256 1.595 BF\n",
            "  27 Shortcut Layer: 24,  wt = 0, wn = 0, outputs:  52 x  52 x 256 0.001 BF\n",
            "  28 conv    128       1 x 1/ 1     52 x  52 x 256 ->   52 x  52 x 128 0.177 BF\n",
            "  29 conv    256       3 x 3/ 1     52 x  52 x 128 ->   52 x  52 x 256 1.595 BF\n",
            "  30 Shortcut Layer: 27,  wt = 0, wn = 0, outputs:  52 x  52 x 256 0.001 BF\n",
            "  31 conv    128       1 x 1/ 1     52 x  52 x 256 ->   52 x  52 x 128 0.177 BF\n",
            "  32 conv    256       3 x 3/ 1     52 x  52 x 128 ->   52 x  52 x 256 1.595 BF\n",
            "  33 Shortcut Layer: 30,  wt = 0, wn = 0, outputs:  52 x  52 x 256 0.001 BF\n",
            "  34 conv    128       1 x 1/ 1     52 x  52 x 256 ->   52 x  52 x 128 0.177 BF\n",
            "  35 conv    256       3 x 3/ 1     52 x  52 x 128 ->   52 x  52 x 256 1.595 BF\n",
            "  36 Shortcut Layer: 33,  wt = 0, wn = 0, outputs:  52 x  52 x 256 0.001 BF\n",
            "  37 conv    512       3 x 3/ 2     52 x  52 x 256 ->   26 x  26 x 512 1.595 BF\n",
            "  38 conv    256       1 x 1/ 1     26 x  26 x 512 ->   26 x  26 x 256 0.177 BF\n",
            "  39 conv    512       3 x 3/ 1     26 x  26 x 256 ->   26 x  26 x 512 1.595 BF\n",
            "  40 Shortcut Layer: 37,  wt = 0, wn = 0, outputs:  26 x  26 x 512 0.000 BF\n",
            "  41 conv    256       1 x 1/ 1     26 x  26 x 512 ->   26 x  26 x 256 0.177 BF\n",
            "  42 conv    512       3 x 3/ 1     26 x  26 x 256 ->   26 x  26 x 512 1.595 BF\n",
            "  43 Shortcut Layer: 40,  wt = 0, wn = 0, outputs:  26 x  26 x 512 0.000 BF\n",
            "  44 conv    256       1 x 1/ 1     26 x  26 x 512 ->   26 x  26 x 256 0.177 BF\n",
            "  45 conv    512       3 x 3/ 1     26 x  26 x 256 ->   26 x  26 x 512 1.595 BF\n",
            "  46 Shortcut Layer: 43,  wt = 0, wn = 0, outputs:  26 x  26 x 512 0.000 BF\n",
            "  47 conv    256       1 x 1/ 1     26 x  26 x 512 ->   26 x  26 x 256 0.177 BF\n",
            "  48 conv    512       3 x 3/ 1     26 x  26 x 256 ->   26 x  26 x 512 1.595 BF\n",
            "  49 Shortcut Layer: 46,  wt = 0, wn = 0, outputs:  26 x  26 x 512 0.000 BF\n",
            "  50 conv    256       1 x 1/ 1     26 x  26 x 512 ->   26 x  26 x 256 0.177 BF\n",
            "  51 conv    512       3 x 3/ 1     26 x  26 x 256 ->   26 x  26 x 512 1.595 BF\n",
            "  52 Shortcut Layer: 49,  wt = 0, wn = 0, outputs:  26 x  26 x 512 0.000 BF\n",
            "  53 conv    256       1 x 1/ 1     26 x  26 x 512 ->   26 x  26 x 256 0.177 BF\n",
            "  54 conv    512       3 x 3/ 1     26 x  26 x 256 ->   26 x  26 x 512 1.595 BF\n",
            "  55 Shortcut Layer: 52,  wt = 0, wn = 0, outputs:  26 x  26 x 512 0.000 BF\n",
            "  56 conv    256       1 x 1/ 1     26 x  26 x 512 ->   26 x  26 x 256 0.177 BF\n",
            "  57 conv    512       3 x 3/ 1     26 x  26 x 256 ->   26 x  26 x 512 1.595 BF\n",
            "  58 Shortcut Layer: 55,  wt = 0, wn = 0, outputs:  26 x  26 x 512 0.000 BF\n",
            "  59 conv    256       1 x 1/ 1     26 x  26 x 512 ->   26 x  26 x 256 0.177 BF\n",
            "  60 conv    512       3 x 3/ 1     26 x  26 x 256 ->   26 x  26 x 512 1.595 BF\n",
            "  61 Shortcut Layer: 58,  wt = 0, wn = 0, outputs:  26 x  26 x 512 0.000 BF\n",
            "  62 conv   1024       3 x 3/ 2     26 x  26 x 512 ->   13 x  13 x1024 1.595 BF\n",
            "  63 conv    512       1 x 1/ 1     13 x  13 x1024 ->   13 x  13 x 512 0.177 BF\n",
            "  64 conv   1024       3 x 3/ 1     13 x  13 x 512 ->   13 x  13 x1024 1.595 BF\n",
            "  65 Shortcut Layer: 62,  wt = 0, wn = 0, outputs:  13 x  13 x1024 0.000 BF\n",
            "  66 conv    512       1 x 1/ 1     13 x  13 x1024 ->   13 x  13 x 512 0.177 BF\n",
            "  67 conv   1024       3 x 3/ 1     13 x  13 x 512 ->   13 x  13 x1024 1.595 BF\n",
            "  68 Shortcut Layer: 65,  wt = 0, wn = 0, outputs:  13 x  13 x1024 0.000 BF\n",
            "  69 conv    512       1 x 1/ 1     13 x  13 x1024 ->   13 x  13 x 512 0.177 BF\n",
            "  70 conv   1024       3 x 3/ 1     13 x  13 x 512 ->   13 x  13 x1024 1.595 BF\n",
            "  71 Shortcut Layer: 68,  wt = 0, wn = 0, outputs:  13 x  13 x1024 0.000 BF\n",
            "  72 conv    512       1 x 1/ 1     13 x  13 x1024 ->   13 x  13 x 512 0.177 BF\n",
            "  73 conv   1024       3 x 3/ 1     13 x  13 x 512 ->   13 x  13 x1024 1.595 BF\n",
            "  74 Shortcut Layer: 71,  wt = 0, wn = 0, outputs:  13 x  13 x1024 0.000 BF\n",
            "  75 conv    512       1 x 1/ 1     13 x  13 x1024 ->   13 x  13 x 512 0.177 BF\n",
            "  76 conv   1024       3 x 3/ 1     13 x  13 x 512 ->   13 x  13 x1024 1.595 BF\n",
            "  77 conv    512       1 x 1/ 1     13 x  13 x1024 ->   13 x  13 x 512 0.177 BF\n",
            "  78 conv   1024       3 x 3/ 1     13 x  13 x 512 ->   13 x  13 x1024 1.595 BF\n",
            "  79 conv    512       1 x 1/ 1     13 x  13 x1024 ->   13 x  13 x 512 0.177 BF\n",
            "  80 conv   1024       3 x 3/ 1     13 x  13 x 512 ->   13 x  13 x1024 1.595 BF\n",
            "  81 conv     24       1 x 1/ 1     13 x  13 x1024 ->   13 x  13 x  24 0.008 BF\n",
            "  82 yolo\n",
            "[yolo] params: iou loss: mse (2), iou_norm: 0.75, obj_norm: 1.00, cls_norm: 1.00, delta_norm: 1.00, scale_x_y: 1.00\n",
            "  83 route  79 \t\t                           ->   13 x  13 x 512 \n",
            "  84 conv    256       1 x 1/ 1     13 x  13 x 512 ->   13 x  13 x 256 0.044 BF\n",
            "  85 upsample                 2x    13 x  13 x 256 ->   26 x  26 x 256\n",
            "  86 route  85 61 \t                           ->   26 x  26 x 768 \n",
            "  87 conv    256       1 x 1/ 1     26 x  26 x 768 ->   26 x  26 x 256 0.266 BF\n",
            "  88 conv    512       3 x 3/ 1     26 x  26 x 256 ->   26 x  26 x 512 1.595 BF\n",
            "  89 conv    256       1 x 1/ 1     26 x  26 x 512 ->   26 x  26 x 256 0.177 BF\n",
            "  90 conv    512       3 x 3/ 1     26 x  26 x 256 ->   26 x  26 x 512 1.595 BF\n",
            "  91 conv    256       1 x 1/ 1     26 x  26 x 512 ->   26 x  26 x 256 0.177 BF\n",
            "  92 conv    512       3 x 3/ 1     26 x  26 x 256 ->   26 x  26 x 512 1.595 BF\n",
            "  93 conv     24       1 x 1/ 1     26 x  26 x 512 ->   26 x  26 x  24 0.017 BF\n",
            "  94 yolo\n",
            "[yolo] params: iou loss: mse (2), iou_norm: 0.75, obj_norm: 1.00, cls_norm: 1.00, delta_norm: 1.00, scale_x_y: 1.00\n",
            "  95 route  91 \t\t                           ->   26 x  26 x 256 \n",
            "  96 conv    128       1 x 1/ 1     26 x  26 x 256 ->   26 x  26 x 128 0.044 BF\n",
            "  97 upsample                 2x    26 x  26 x 128 ->   52 x  52 x 128\n",
            "  98 route  97 36 \t                           ->   52 x  52 x 384 \n",
            "  99 conv    128       1 x 1/ 1     52 x  52 x 384 ->   52 x  52 x 128 0.266 BF\n",
            " 100 conv    256       3 x 3/ 1     52 x  52 x 128 ->   52 x  52 x 256 1.595 BF\n",
            " 101 conv    128       1 x 1/ 1     52 x  52 x 256 ->   52 x  52 x 128 0.177 BF\n",
            " 102 conv    256       3 x 3/ 1     52 x  52 x 128 ->   52 x  52 x 256 1.595 BF\n",
            " 103 conv    128       1 x 1/ 1     52 x  52 x 256 ->   52 x  52 x 128 0.177 BF\n",
            " 104 conv    256       3 x 3/ 1     52 x  52 x 128 ->   52 x  52 x 256 1.595 BF\n",
            " 105 conv     24       1 x 1/ 1     52 x  52 x 256 ->   52 x  52 x  24 0.033 BF\n",
            " 106 yolo\n",
            "[yolo] params: iou loss: mse (2), iou_norm: 0.75, obj_norm: 1.00, cls_norm: 1.00, delta_norm: 1.00, scale_x_y: 1.00\n",
            "Total BFLOPS 65.319 \n",
            "avg_outputs = 517121 \n",
            " Allocate additional workspace_size = 52.43 MB \n",
            "Loading weights from darknet53.conv.74...\n",
            " seen 64, trained: 0 K-images (0 Kilo-batches_64) \n",
            "Done! Loaded 75 layers from weights-file \n",
            "Learning Rate: 0.001, Momentum: 0.9, Decay: 0.0005\n",
            " Detection layer: 82 - type = 28 \n",
            " Detection layer: 94 - type = 28 \n",
            " Detection layer: 106 - type = 28 \n",
            "Resizing, random_coef = 1.40 \n",
            "\n",
            " 608 x 608 \n",
            " Create 6 permanent cpu-threads \n",
            "libpng warning: iCCP: Not recognizing known sRGB profile that has been edited\n",
            " try to allocate additional workspace_size = 106.46 MB \n",
            " CUDA allocate done! \n",
            "Loaded: 0.000038 seconds\n",
            "v3 (mse loss, Normalizer: (iou: 0.75, cls: 1.00) Region 82 Avg (IOU: 0.260270, GIOU: 0.154195), Class: 0.395605, Obj: 0.518797, No Obj: 0.502491, .5R: 0.000000, .75R: 0.000000, count: 3, class_loss = 290.148987, iou_loss = 3.422119, total_loss = 293.571106 \n",
            "v3 (mse loss, Normalizer: (iou: 0.75, cls: 1.00) Region 94 Avg (IOU: 0.221667, GIOU: -0.041434), Class: 0.271207, Obj: 0.425913, No Obj: 0.513872, .5R: 0.000000, .75R: 0.000000, count: 8, class_loss = 1214.424561, iou_loss = 13.142090, total_loss = 1227.566650 \n",
            "v3 (mse loss, Normalizer: (iou: 0.75, cls: 1.00) Region 106 Avg (IOU: 0.603093, GIOU: 0.587054), Class: 0.263698, Obj: 0.682358, No Obj: 0.528592, .5R: 1.000000, .75R: 0.000000, count: 1, class_loss = 5076.330078, iou_loss = 0.224609, total_loss = 5076.554688 \n",
            " total_bbox = 12, rewritten_bbox = 0.000000 % \n",
            "v3 (mse loss, Normalizer: (iou: 0.75, cls: 1.00) Region 82 Avg (IOU: 0.420267, GIOU: 0.345598), Class: 0.352958, Obj: 0.536862, No Obj: 0.503468, .5R: 0.500000, .75R: 0.000000, count: 2, class_loss = 291.364044, iou_loss = 0.963989, total_loss = 292.328033 \n",
            "v3 (mse loss, Normalizer: (iou: 0.75, cls: 1.00) Region 94 Avg (IOU: 0.443357, GIOU: 0.386060), Class: 0.493539, Obj: 0.580215, No Obj: 0.513468, .5R: 0.333333, .75R: 0.000000, count: 6, class_loss = 1214.148315, iou_loss = 2.794067, total_loss = 1216.942383 \n",
            "v3 (mse loss, Normalizer: (iou: 0.75, cls: 1.00) Region 106 Avg (IOU: 0.315837, GIOU: 0.261588), Class: 0.511251, Obj: 0.539594, No Obj: 0.529010, .5R: 0.333333, .75R: 0.000000, count: 3, class_loss = 5092.892090, iou_loss = 4.174805, total_loss = 5097.066895 \n",
            " total_bbox = 23, rewritten_bbox = 0.000000 % \n",
            "v3 (mse loss, Normalizer: (iou: 0.75, cls: 1.00) Region 82 Avg (IOU: 0.271424, GIOU: 0.271424), Class: 0.436099, Obj: 0.651192, No Obj: 0.503154, .5R: 0.000000, .75R: 0.000000, count: 1, class_loss = 290.318787, iou_loss = 0.620667, total_loss = 290.939453 \n",
            "v3 (mse loss, Normalizer: (iou: 0.75, cls: 1.00) Region 94 Avg (IOU: 0.377036, GIOU: 0.262683), Class: 0.426717, Obj: 0.574877, No Obj: 0.513547, .5R: 0.187500, .75R: 0.000000, count: 16, class_loss = 1216.122803, iou_loss = 10.779175, total_loss = 1226.901978 \n",
            "v3 (mse loss, Normalizer: (iou: 0.75, cls: 1.00) Region 106 Avg (IOU: 0.462258, GIOU: 0.409869), Class: 0.430759, Obj: 0.531382, No Obj: 0.529486, .5R: 0.333333, .75R: 0.000000, count: 6, class_loss = 5101.594238, iou_loss = 1.728516, total_loss = 5103.322754 \n",
            " total_bbox = 46, rewritten_bbox = 0.000000 % \n",
            "v3 (mse loss, Normalizer: (iou: 0.75, cls: 1.00) Region 82 Avg (IOU: 0.243387, GIOU: 0.243386), Class: 0.664368, Obj: 0.495104, No Obj: 0.503387, .5R: 0.333333, .75R: 0.000000, count: 3, class_loss = 291.098511, iou_loss = 3.587463, total_loss = 294.685974 \n",
            "v3 (mse loss, Normalizer: (iou: 0.75, cls: 1.00) Region 94 Avg (IOU: 0.205433, GIOU: 0.154660), Class: 0.465760, Obj: 0.625110, No Obj: 0.513046, .5R: 0.000000, .75R: 0.000000, count: 3, class_loss = 1210.695557, iou_loss = 4.022827, total_loss = 1214.718384 \n",
            "v3 (mse loss, Normalizer: (iou: 0.75, cls: 1.00) Region 106 Avg (IOU: 0.309761, GIOU: 0.185961), Class: 0.426299, Obj: 0.575688, No Obj: 0.528948, .5R: 0.150000, .75R: 0.050000, count: 20, class_loss = 5091.465820, iou_loss = 22.966309, total_loss = 5114.432129 \n",
            " total_bbox = 72, rewritten_bbox = 0.000000 % \n",
            "v3 (mse loss, Normalizer: (iou: 0.75, cls: 1.00) Region 82 Avg (IOU: 0.227524, GIOU: 0.204842), Class: 0.472678, Obj: 0.472932, No Obj: 0.503927, .5R: 0.333333, .75R: 0.000000, count: 3, class_loss = 292.271942, iou_loss = 4.516693, total_loss = 296.788635 \n",
            "v3 (mse loss, Normalizer: (iou: 0.75, cls: 1.00) Region 94 Avg (IOU: 0.363609, GIOU: 0.245286), Class: 0.358162, Obj: 0.529378, No Obj: 0.513640, .5R: 0.187500, .75R: 0.000000, count: 16, class_loss = 1217.300049, iou_loss = 9.207764, total_loss = 1226.507812 \n",
            "v3 (mse loss, Normalizer: (iou: 0.75, cls: 1.00) Region 106 Avg (IOU: 0.245496, GIOU: 0.025685), Class: 0.502619, Obj: 0.612398, No Obj: 0.528976, .5R: 0.000000, .75R: 0.000000, count: 14, class_loss = 5091.872070, iou_loss = 22.959473, total_loss = 5114.831543 \n",
            " total_bbox = 105, rewritten_bbox = 0.952381 % \n",
            "v3 (mse loss, Normalizer: (iou: 0.75, cls: 1.00) Region 82 Avg (IOU: 0.464547, GIOU: 0.366307), Class: 0.475756, Obj: 0.666681, No Obj: 0.503549, .5R: 0.500000, .75R: 0.000000, count: 2, class_loss = 291.280457, iou_loss = 0.757782, total_loss = 292.038239 \n",
            "v3 (mse loss, Normalizer: (iou: 0.75, cls: 1.00) Region 94 Avg (IOU: 0.253655, GIOU: 0.149597), Class: 0.472969, Obj: 0.523398, No Obj: 0.513234, .5R: 0.100000, .75R: 0.000000, count: 10, class_loss = 1213.743774, iou_loss = 12.376709, total_loss = 1226.120483 \n",
            "v3 (mse loss, Normalizer: (iou: 0.75, cls: 1.00) Region 106 Avg (IOU: 0.352090, GIOU: 0.167499), Class: 0.405990, Obj: 0.617774, No Obj: 0.529114, .5R: 0.166667, .75R: 0.000000, count: 6, class_loss = 5093.147949, iou_loss = 5.059570, total_loss = 5098.207520 \n",
            " total_bbox = 123, rewritten_bbox = 0.813008 % \n",
            "v3 (mse loss, Normalizer: (iou: 0.75, cls: 1.00) Region 82 Avg (IOU: 0.474166, GIOU: 0.329358), Class: 0.546497, Obj: 0.566275, No Obj: 0.503064, .5R: 0.250000, .75R: 0.250000, count: 4, class_loss = 290.866394, iou_loss = 2.079529, total_loss = 292.945923 \n",
            "v3 (mse loss, Normalizer: (iou: 0.75, cls: 1.00) Region 94 Avg (IOU: 0.339149, GIOU: 0.239528), Class: 0.479399, Obj: 0.507757, No Obj: 0.513290, .5R: 0.125000, .75R: 0.000000, count: 24, class_loss = 1217.670654, iou_loss = 17.849487, total_loss = 1235.520142 \n",
            "v3 (mse loss, Normalizer: (iou: 0.75, cls: 1.00) Region 106 Avg (IOU: 0.122557, GIOU: -0.166907), Class: 0.361425, Obj: 0.535458, No Obj: 0.529272, .5R: 0.000000, .75R: 0.000000, count: 3, class_loss = 5098.245605, iou_loss = 11.089844, total_loss = 5109.335449 \n",
            " total_bbox = 154, rewritten_bbox = 0.649351 % \n",
            "v3 (mse loss, Normalizer: (iou: 0.75, cls: 1.00) Region 82 Avg (IOU: 0.391782, GIOU: 0.335944), Class: 0.653457, Obj: 0.598725, No Obj: 0.502602, .5R: 0.000000, .75R: 0.000000, count: 2, class_loss = 290.509796, iou_loss = 1.064880, total_loss = 291.574677 \n",
            "v3 (mse loss, Normalizer: (iou: 0.75, cls: 1.00) Region 94 Avg (IOU: 0.370767, GIOU: 0.322465), Class: 0.445311, Obj: 0.451425, No Obj: 0.513477, .5R: 0.142857, .75R: 0.000000, count: 7, class_loss = 1214.646606, iou_loss = 4.063110, total_loss = 1218.709717 \n",
            "v3 (mse loss, Normalizer: (iou: 0.75, cls: 1.00) Region 106 Avg (IOU: 0.000000, GIOU: 0.000000), Class: 0.000000, Obj: 0.000000, No Obj: 0.529481, .5R: 0.000000, .75R: 0.000000, count: 1, class_loss = 5104.381348, iou_loss = 0.000000, total_loss = 5104.381348 \n",
            " total_bbox = 163, rewritten_bbox = 0.613497 % \n",
            "v3 (mse loss, Normalizer: (iou: 0.75, cls: 1.00) Region 82 Avg (IOU: 0.299377, GIOU: 0.275953), Class: 0.444645, Obj: 0.500621, No Obj: 0.504379, .5R: 0.285714, .75R: 0.000000, count: 7, class_loss = 293.591553, iou_loss = 6.806427, total_loss = 300.397980 \n",
            "v3 (mse loss, Normalizer: (iou: 0.75, cls: 1.00) Region 94 Avg (IOU: 0.309540, GIOU: 0.305161), Class: 0.357295, Obj: 0.586121, No Obj: 0.513342, .5R: 0.166667, .75R: 0.000000, count: 6, class_loss = 1212.294189, iou_loss = 4.482910, total_loss = 1216.777100 \n",
            "v3 (mse loss, Normalizer: (iou: 0.75, cls: 1.00) Region 106 Avg (IOU: 0.288524, GIOU: 0.288525), Class: 0.490348, Obj: 0.541652, No Obj: 0.528849, .5R: 0.000000, .75R: 0.000000, count: 1, class_loss = 5088.028809, iou_loss = 0.625977, total_loss = 5088.654785 \n",
            " total_bbox = 177, rewritten_bbox = 0.564972 % \n",
            "v3 (mse loss, Normalizer: (iou: 0.75, cls: 1.00) Region 82 Avg (IOU: 0.000000, GIOU: 0.000000), Class: 0.000000, Obj: 0.000000, No Obj: 0.504019, .5R: 0.000000, .75R: 0.000000, count: 1, class_loss = 291.894012, iou_loss = 0.000000, total_loss = 291.894012 \n",
            "v3 (mse loss, Normalizer: (iou: 0.75, cls: 1.00) Region 94 Avg (IOU: 0.272217, GIOU: 0.102442), Class: 0.438948, Obj: 0.533850, No Obj: 0.513796, .5R: 0.000000, .75R: 0.000000, count: 12, class_loss = 1217.976562, iou_loss = 12.212158, total_loss = 1230.188721 \n",
            "v3 (mse loss, Normalizer: (iou: 0.75, cls: 1.00) Region 106 Avg (IOU: 0.298606, GIOU: 0.157757), Class: 0.514299, Obj: 0.542947, No Obj: 0.529862, .5R: 0.125000, .75R: 0.000000, count: 8, class_loss = 5109.294922, iou_loss = 7.996582, total_loss = 5117.291504 \n",
            " total_bbox = 197, rewritten_bbox = 0.507614 % \n",
            "v3 (mse loss, Normalizer: (iou: 0.75, cls: 1.00) Region 82 Avg (IOU: 0.343095, GIOU: 0.243539), Class: 0.615298, Obj: 0.480321, No Obj: 0.503145, .5R: 0.000000, .75R: 0.000000, count: 3, class_loss = 290.800629, iou_loss = 1.361420, total_loss = 292.162048 \n",
            "v3 (mse loss, Normalizer: (iou: 0.75, cls: 1.00) Region 94 Avg (IOU: 0.279730, GIOU: 0.062274), Class: 0.534861, Obj: 0.592660, No Obj: 0.514031, .5R: 0.000000, .75R: 0.000000, count: 4, class_loss = 1215.665405, iou_loss = 6.189941, total_loss = 1221.855347 \n",
            "v3 (mse loss, Normalizer: (iou: 0.75, cls: 1.00) Region 106 Avg (IOU: 0.000000, GIOU: 0.000000), Class: 0.000000, Obj: 0.000000, No Obj: 0.528799, .5R: 0.000000, .75R: 0.000000, count: 1, class_loss = 5083.614258, iou_loss = 0.000000, total_loss = 5083.614258 \n",
            " total_bbox = 204, rewritten_bbox = 0.490196 % \n",
            "v3 (mse loss, Normalizer: (iou: 0.75, cls: 1.00) Region 82 Avg (IOU: 0.249398, GIOU: 0.223641), Class: 0.597480, Obj: 0.599440, No Obj: 0.503208, .5R: 0.000000, .75R: 0.000000, count: 2, class_loss = 290.677307, iou_loss = 4.852386, total_loss = 295.529694 \n",
            "v3 (mse loss, Normalizer: (iou: 0.75, cls: 1.00) Region 94 Avg (IOU: 0.332452, GIOU: 0.109574), Class: 0.471295, Obj: 0.560175, No Obj: 0.513589, .5R: 0.214286, .75R: 0.000000, count: 14, class_loss = 1216.618408, iou_loss = 14.370361, total_loss = 1230.988770 \n",
            "v3 (mse loss, Normalizer: (iou: 0.75, cls: 1.00) Region 106 Avg (IOU: 0.000000, GIOU: 0.000000), Class: 0.000000, Obj: 0.000000, No Obj: 0.529302, .5R: 0.000000, .75R: 0.000000, count: 1, class_loss = 5097.339355, iou_loss = 0.000000, total_loss = 5097.339355 \n",
            " total_bbox = 220, rewritten_bbox = 0.454545 % \n",
            "v3 (mse loss, Normalizer: (iou: 0.75, cls: 1.00) Region 82 Avg (IOU: 0.605705, GIOU: 0.605705), Class: 0.642434, Obj: 0.558598, No Obj: 0.503677, .5R: 1.000000, .75R: 0.000000, count: 1, class_loss = 290.791443, iou_loss = 0.171570, total_loss = 290.963013 \n",
            "v3 (mse loss, Normalizer: (iou: 0.75, cls: 1.00) Region 94 Avg (IOU: 0.209305, GIOU: 0.029522), Class: 0.502982, Obj: 0.511316, No Obj: 0.513157, .5R: 0.000000, .75R: 0.000000, count: 10, class_loss = 1212.493774, iou_loss = 17.246338, total_loss = 1229.740112 \n",
            "v3 (mse loss, Normalizer: (iou: 0.75, cls: 1.00) Region 106 Avg (IOU: 0.167424, GIOU: 0.167421), Class: 0.614352, Obj: 0.417381, No Obj: 0.529356, .5R: 0.000000, .75R: 0.000000, count: 1, class_loss = 5099.387695, iou_loss = 1.385742, total_loss = 5100.773438 \n",
            " total_bbox = 232, rewritten_bbox = 0.431034 % \n",
            "v3 (mse loss, Normalizer: (iou: 0.75, cls: 1.00) Region 82 Avg (IOU: 0.725698, GIOU: 0.713302), Class: 0.652406, Obj: 0.413293, No Obj: 0.503786, .5R: 1.000000, .75R: 0.000000, count: 1, class_loss = 291.676178, iou_loss = 0.206207, total_loss = 291.882385 \n",
            "v3 (mse loss, Normalizer: (iou: 0.75, cls: 1.00) Region 94 Avg (IOU: 0.299517, GIOU: 0.144587), Class: 0.453528, Obj: 0.448549, No Obj: 0.513466, .5R: 0.000000, .75R: 0.000000, count: 6, class_loss = 1214.695435, iou_loss = 5.569946, total_loss = 1220.265381 \n",
            "v3 (mse loss, Normalizer: (iou: 0.75, cls: 1.00) Region 106 Avg (IOU: 0.000000, GIOU: 0.000000), Class: 0.000000, Obj: 0.000000, No Obj: 0.529336, .5R: 0.000000, .75R: 0.000000, count: 1, class_loss = 5094.812012, iou_loss = 0.000000, total_loss = 5094.812012 \n",
            " total_bbox = 239, rewritten_bbox = 0.418410 % \n",
            "v3 (mse loss, Normalizer: (iou: 0.75, cls: 1.00) Region 82 Avg (IOU: 0.000000, GIOU: 0.000000), Class: 0.000000, Obj: 0.000000, No Obj: 0.503256, .5R: 0.000000, .75R: 0.000000, count: 1, class_loss = 290.756470, iou_loss = 0.000000, total_loss = 290.756470 \n",
            "v3 (mse loss, Normalizer: (iou: 0.75, cls: 1.00) Region 94 Avg (IOU: 0.384902, GIOU: 0.290712), Class: 0.407724, Obj: 0.510439, No Obj: 0.513649, .5R: 0.160000, .75R: 0.040000, count: 25, class_loss = 1219.664185, iou_loss = 17.305664, total_loss = 1236.969849 \n",
            "v3 (mse loss, Normalizer: (iou: 0.75, cls: 1.00) Region 106 Avg (IOU: 0.279908, GIOU: 0.148351), Class: 0.631417, Obj: 0.425122, No Obj: 0.529693, .5R: 0.000000, .75R: 0.000000, count: 6, class_loss = 5106.328613, iou_loss = 3.858398, total_loss = 5110.187012 \n",
            " total_bbox = 270, rewritten_bbox = 0.370370 % \n",
            "v3 (mse loss, Normalizer: (iou: 0.75, cls: 1.00) Region 82 Avg (IOU: 0.252971, GIOU: 0.252971), Class: 0.607155, Obj: 0.561242, No Obj: 0.503301, .5R: 0.333333, .75R: 0.000000, count: 3, class_loss = 290.598602, iou_loss = 4.716217, total_loss = 295.314819 \n",
            "v3 (mse loss, Normalizer: (iou: 0.75, cls: 1.00) Region 94 Avg (IOU: 0.320231, GIOU: 0.258483), Class: 0.460149, Obj: 0.593545, No Obj: 0.513316, .5R: 0.187500, .75R: 0.062500, count: 16, class_loss = 1215.251831, iou_loss = 16.963989, total_loss = 1232.215820 \n",
            "v3 (mse loss, Normalizer: (iou: 0.75, cls: 1.00) Region 106 Avg (IOU: 0.191549, GIOU: -0.062616), Class: 0.571410, Obj: 0.572036, No Obj: 0.529255, .5R: 0.000000, .75R: 0.000000, count: 1, class_loss = 5098.420898, iou_loss = 1.875488, total_loss = 5100.296387 \n",
            " total_bbox = 290, rewritten_bbox = 0.344828 % \n",
            "\n",
            " 1: 2206.601318, 2206.601318 avg loss, 0.000000 rate, 5.578513 seconds, 64 images, -1.000000 hours left\n",
            "Loaded: 0.000037 seconds\n",
            "v3 (mse loss, Normalizer: (iou: 0.75, cls: 1.00) Region 82 Avg (IOU: 0.146723, GIOU: -0.077364), Class: 0.627741, Obj: 0.350195, No Obj: 0.502482, .5R: 0.000000, .75R: 0.000000, count: 2, class_loss = 290.754456, iou_loss = 4.604095, total_loss = 295.358551 \n",
            "v3 (mse loss, Normalizer: (iou: 0.75, cls: 1.00) Region 94 Avg (IOU: 0.398731, GIOU: 0.313399), Class: 0.458476, Obj: 0.533051, No Obj: 0.513778, .5R: 0.200000, .75R: 0.000000, count: 15, class_loss = 1218.088379, iou_loss = 9.947510, total_loss = 1228.035889 \n",
            "v3 (mse loss, Normalizer: (iou: 0.75, cls: 1.00) Region 106 Avg (IOU: 0.445669, GIOU: 0.363015), Class: 0.569415, Obj: 0.573894, No Obj: 0.528700, .5R: 0.333333, .75R: 0.000000, count: 3, class_loss = 5084.283203, iou_loss = 1.508301, total_loss = 5085.791504 \n",
            " total_bbox = 310, rewritten_bbox = 0.322581 % \n",
            "v3 (mse loss, Normalizer: (iou: 0.75, cls: 1.00) Region 82 Avg (IOU: 0.244154, GIOU: -0.029809), Class: 0.547174, Obj: 0.507729, No Obj: 0.503724, .5R: 0.000000, .75R: 0.000000, count: 3, class_loss = 292.679993, iou_loss = 3.854950, total_loss = 296.534943 \n",
            "v3 (mse loss, Normalizer: (iou: 0.75, cls: 1.00) Region 94 Avg (IOU: 0.268989, GIOU: 0.176104), Class: 0.336780, Obj: 0.506814, No Obj: 0.513630, .5R: 0.000000, .75R: 0.000000, count: 7, class_loss = 1215.391479, iou_loss = 9.291260, total_loss = 1224.682739 \n",
            "v3 (mse loss, Normalizer: (iou: 0.75, cls: 1.00) Region 106 Avg (IOU: 0.110692, GIOU: 0.110693), Class: 0.657901, Obj: 0.393716, No Obj: 0.529004, .5R: 0.000000, .75R: 0.000000, count: 1, class_loss = 5089.622559, iou_loss = 1.384766, total_loss = 5091.007324 \n",
            " total_bbox = 321, rewritten_bbox = 0.311526 % \n",
            "v3 (mse loss, Normalizer: (iou: 0.75, cls: 1.00) Region 82 Avg (IOU: 0.365916, GIOU: 0.363198), Class: 0.476621, Obj: 0.587352, No Obj: 0.503576, .5R: 0.200000, .75R: 0.200000, count: 5, class_loss = 291.990387, iou_loss = 4.096252, total_loss = 296.086639 \n",
            "v3 (mse loss, Normalizer: (iou: 0.75, cls: 1.00) Region 94 Avg (IOU: 0.487137, GIOU: 0.448381), Class: 0.513914, Obj: 0.643240, No Obj: 0.513607, .5R: 0.500000, .75R: 0.100000, count: 10, class_loss = 1214.920410, iou_loss = 4.021240, total_loss = 1218.941650 \n",
            "v3 (mse loss, Normalizer: (iou: 0.75, cls: 1.00) Region 106 Avg (IOU: 0.000000, GIOU: 0.000000), Class: 0.000000, Obj: 0.000000, No Obj: 0.528957, .5R: 0.000000, .75R: 0.000000, count: 1, class_loss = 5093.970215, iou_loss = 0.000000, total_loss = 5093.970215 \n",
            " total_bbox = 336, rewritten_bbox = 0.297619 % \n",
            "v3 (mse loss, Normalizer: (iou: 0.75, cls: 1.00) Region 82 Avg (IOU: 0.000000, GIOU: 0.000000), Class: 0.000000, Obj: 0.000000, No Obj: 0.503588, .5R: 0.000000, .75R: 0.000000, count: 1, class_loss = 291.040924, iou_loss = 0.000000, total_loss = 291.040924 \n",
            "v3 (mse loss, Normalizer: (iou: 0.75, cls: 1.00) Region 94 Avg (IOU: 0.269866, GIOU: 0.081201), Class: 0.353030, Obj: 0.571848, No Obj: 0.513515, .5R: 0.090909, .75R: 0.000000, count: 11, class_loss = 1217.388672, iou_loss = 11.678345, total_loss = 1229.067017 \n",
            "v3 (mse loss, Normalizer: (iou: 0.75, cls: 1.00) Region 106 Avg (IOU: 0.187397, GIOU: 0.049480), Class: 0.434996, Obj: 0.539420, No Obj: 0.529375, .5R: 0.050000, .75R: 0.000000, count: 20, class_loss = 5099.704590, iou_loss = 48.546387, total_loss = 5148.250977 \n",
            " total_bbox = 367, rewritten_bbox = 0.817439 % \n",
            "v3 (mse loss, Normalizer: (iou: 0.75, cls: 1.00) Region 82 Avg (IOU: 0.491589, GIOU: 0.462498), Class: 0.388070, Obj: 0.232309, No Obj: 0.503441, .5R: 0.000000, .75R: 0.000000, count: 1, class_loss = 290.817413, iou_loss = 0.368591, total_loss = 291.186005 \n",
            "v3 (mse loss, Normalizer: (iou: 0.75, cls: 1.00) Region 94 Avg (IOU: 0.251826, GIOU: 0.126230), Class: 0.423640, Obj: 0.662315, No Obj: 0.513579, .5R: 0.111111, .75R: 0.000000, count: 9, class_loss = 1213.818481, iou_loss = 12.664551, total_loss = 1226.483032 \n",
            "v3 (mse loss, Normalizer: (iou: 0.75, cls: 1.00) Region 106 Avg (IOU: 0.308939, GIOU: 0.040577), Class: 0.469307, Obj: 0.649564, No Obj: 0.528918, .5R: 0.000000, .75R: 0.000000, count: 3, class_loss = 5082.319824, iou_loss = 2.998535, total_loss = 5085.318359 \n",
            " total_bbox = 380, rewritten_bbox = 0.789474 % \n",
            "v3 (mse loss, Normalizer: (iou: 0.75, cls: 1.00) Region 82 Avg (IOU: 0.600264, GIOU: 0.564679), Class: 0.478776, Obj: 0.574001, No Obj: 0.504028, .5R: 1.000000, .75R: 0.000000, count: 1, class_loss = 292.249451, iou_loss = 0.233246, total_loss = 292.482697 \n",
            "v3 (mse loss, Normalizer: (iou: 0.75, cls: 1.00) Region 94 Avg (IOU: 0.267411, GIOU: 0.117948), Class: 0.394104, Obj: 0.459435, No Obj: 0.513252, .5R: 0.000000, .75R: 0.000000, count: 22, class_loss = 1215.760376, iou_loss = 21.039307, total_loss = 1236.799683 \n",
            "v3 (mse loss, Normalizer: (iou: 0.75, cls: 1.00) Region 106 Avg (IOU: 0.394158, GIOU: 0.323515), Class: 0.406621, Obj: 0.592886, No Obj: 0.528770, .5R: 0.384615, .75R: 0.076923, count: 13, class_loss = 5082.303223, iou_loss = 13.688477, total_loss = 5095.991699 \n",
            " total_bbox = 416, rewritten_bbox = 0.721154 % \n",
            "v3 (mse loss, Normalizer: (iou: 0.75, cls: 1.00) Region 82 Avg (IOU: 0.322141, GIOU: 0.232551), Class: 0.521731, Obj: 0.610569, No Obj: 0.503947, .5R: 0.250000, .75R: 0.000000, count: 4, class_loss = 291.665161, iou_loss = 3.463531, total_loss = 295.128693 \n",
            "v3 (mse loss, Normalizer: (iou: 0.75, cls: 1.00) Region 94 Avg (IOU: 0.263174, GIOU: 0.135710), Class: 0.391975, Obj: 0.418120, No Obj: 0.513124, .5R: 0.000000, .75R: 0.000000, count: 5, class_loss = 1211.392090, iou_loss = 5.293213, total_loss = 1216.685303 \n",
            "v3 (mse loss, Normalizer: (iou: 0.75, cls: 1.00) Region 106 Avg (IOU: 0.243370, GIOU: 0.238883), Class: 0.384281, Obj: 0.743058, No Obj: 0.528914, .5R: 0.000000, .75R: 0.000000, count: 2, class_loss = 5084.510742, iou_loss = 2.118652, total_loss = 5086.629395 \n",
            " total_bbox = 427, rewritten_bbox = 0.702576 % \n",
            "v3 (mse loss, Normalizer: (iou: 0.75, cls: 1.00) Region 82 Avg (IOU: 0.272350, GIOU: 0.197399), Class: 0.348849, Obj: 0.596277, No Obj: 0.502772, .5R: 0.250000, .75R: 0.000000, count: 4, class_loss = 291.218994, iou_loss = 4.087585, total_loss = 295.306580 \n",
            "v3 (mse loss, Normalizer: (iou: 0.75, cls: 1.00) Region 94 Avg (IOU: 0.267809, GIOU: 0.074365), Class: 0.317300, Obj: 0.548324, No Obj: 0.513686, .5R: 0.200000, .75R: 0.000000, count: 5, class_loss = 1214.834351, iou_loss = 6.873535, total_loss = 1221.707886 \n",
            "v3 (mse loss, Normalizer: (iou: 0.75, cls: 1.00) Region 106 Avg (IOU: 0.000000, GIOU: 0.000000), Class: 0.000000, Obj: 0.000000, No Obj: 0.527825, .5R: 0.000000, .75R: 0.000000, count: 1, class_loss = 5058.079590, iou_loss = 0.000000, total_loss = 5058.079590 \n",
            " total_bbox = 436, rewritten_bbox = 0.688073 % \n",
            "v3 (mse loss, Normalizer: (iou: 0.75, cls: 1.00) Region 82 Avg (IOU: 0.347095, GIOU: 0.326581), Class: 0.658665, Obj: 0.365913, No Obj: 0.503202, .5R: 0.500000, .75R: 0.000000, count: 2, class_loss = 290.485413, iou_loss = 1.449524, total_loss = 291.934937 \n",
            "v3 (mse loss, Normalizer: (iou: 0.75, cls: 1.00) Region 94 Avg (IOU: 0.369913, GIOU: 0.288832), Class: 0.414624, Obj: 0.701819, No Obj: 0.513557, .5R: 0.250000, .75R: 0.000000, count: 4, class_loss = 1213.991211, iou_loss = 4.447388, total_loss = 1218.438599 \n",
            "v3 (mse loss, Normalizer: (iou: 0.75, cls: 1.00) Region 106 Avg (IOU: 0.270199, GIOU: 0.207160), Class: 0.437583, Obj: 0.548778, No Obj: 0.528764, .5R: 0.181818, .75R: 0.000000, count: 11, class_loss = 5085.292969, iou_loss = 15.746582, total_loss = 5101.039551 \n",
            " total_bbox = 453, rewritten_bbox = 0.662252 % \n",
            "v3 (mse loss, Normalizer: (iou: 0.75, cls: 1.00) Region 82 Avg (IOU: 0.392785, GIOU: 0.386249), Class: 0.662242, Obj: 0.450296, No Obj: 0.503657, .5R: 0.500000, .75R: 0.000000, count: 2, class_loss = 291.013916, iou_loss = 1.416382, total_loss = 292.430298 \n",
            "v3 (mse loss, Normalizer: (iou: 0.75, cls: 1.00) Region 94 Avg (IOU: 0.304943, GIOU: 0.193534), Class: 0.325254, Obj: 0.602871, No Obj: 0.513874, .5R: 0.100000, .75R: 0.000000, count: 10, class_loss = 1216.279175, iou_loss = 8.390747, total_loss = 1224.669922 \n",
            "v3 (mse loss, Normalizer: (iou: 0.75, cls: 1.00) Region 106 Avg (IOU: 0.258642, GIOU: 0.104968), Class: 0.456774, Obj: 0.440713, No Obj: 0.529743, .5R: 0.166667, .75R: 0.000000, count: 24, class_loss = 5111.995605, iou_loss = 31.264160, total_loss = 5143.259766 \n",
            " total_bbox = 489, rewritten_bbox = 0.613497 % \n",
            "v3 (mse loss, Normalizer: (iou: 0.75, cls: 1.00) Region 82 Avg (IOU: 0.341559, GIOU: 0.278028), Class: 0.526051, Obj: 0.561966, No Obj: 0.503271, .5R: 0.000000, .75R: 0.000000, count: 2, class_loss = 290.881683, iou_loss = 1.500549, total_loss = 292.382233 \n",
            "v3 (mse loss, Normalizer: (iou: 0.75, cls: 1.00) Region 94 Avg (IOU: 0.463561, GIOU: 0.432086), Class: 0.411649, Obj: 0.474100, No Obj: 0.513868, .5R: 0.500000, .75R: 0.166667, count: 6, class_loss = 1216.096436, iou_loss = 3.115356, total_loss = 1219.211792 \n",
            "v3 (mse loss, Normalizer: (iou: 0.75, cls: 1.00) Region 106 Avg (IOU: 0.359815, GIOU: 0.329818), Class: 0.460565, Obj: 0.560078, No Obj: 0.529262, .5R: 0.222222, .75R: 0.000000, count: 9, class_loss = 5094.182617, iou_loss = 5.674316, total_loss = 5099.856934 \n",
            " total_bbox = 506, rewritten_bbox = 0.592885 % \n",
            "v3 (mse loss, Normalizer: (iou: 0.75, cls: 1.00) Region 82 Avg (IOU: 0.359991, GIOU: 0.300287), Class: 0.604550, Obj: 0.561343, No Obj: 0.504043, .5R: 0.333333, .75R: 0.000000, count: 3, class_loss = 291.630707, iou_loss = 2.102203, total_loss = 293.732910 \n",
            "v3 (mse loss, Normalizer: (iou: 0.75, cls: 1.00) Region 94 Avg (IOU: 0.325556, GIOU: 0.201591), Class: 0.484302, Obj: 0.560436, No Obj: 0.513162, .5R: 0.125000, .75R: 0.125000, count: 8, class_loss = 1211.653564, iou_loss = 8.846558, total_loss = 1220.500122 \n",
            "v3 (mse loss, Normalizer: (iou: 0.75, cls: 1.00) Region 106 Avg (IOU: 0.000000, GIOU: 0.000000), Class: 0.000000, Obj: 0.000000, No Obj: 0.528420, .5R: 0.000000, .75R: 0.000000, count: 1, class_loss = 5071.603027, iou_loss = 0.000000, total_loss = 5071.603027 \n",
            " total_bbox = 517, rewritten_bbox = 0.580271 % \n",
            "v3 (mse loss, Normalizer: (iou: 0.75, cls: 1.00) Region 82 Avg (IOU: 0.300208, GIOU: 0.136758), Class: 0.265324, Obj: 0.506118, No Obj: 0.503268, .5R: 0.200000, .75R: 0.000000, count: 5, class_loss = 292.554443, iou_loss = 5.719940, total_loss = 298.274384 \n",
            "v3 (mse loss, Normalizer: (iou: 0.75, cls: 1.00) Region 94 Avg (IOU: 0.416592, GIOU: 0.283951), Class: 0.429770, Obj: 0.584148, No Obj: 0.513858, .5R: 0.400000, .75R: 0.000000, count: 15, class_loss = 1217.031982, iou_loss = 10.390381, total_loss = 1227.422363 \n",
            "v3 (mse loss, Normalizer: (iou: 0.75, cls: 1.00) Region 106 Avg (IOU: 0.287611, GIOU: 0.287612), Class: 0.688606, Obj: 0.469000, No Obj: 0.529583, .5R: 0.000000, .75R: 0.000000, count: 2, class_loss = 5099.064941, iou_loss = 1.264160, total_loss = 5100.329102 \n",
            " total_bbox = 539, rewritten_bbox = 0.556586 % \n",
            "v3 (mse loss, Normalizer: (iou: 0.75, cls: 1.00) Region 82 Avg (IOU: 0.537539, GIOU: 0.469412), Class: 0.516494, Obj: 0.467191, No Obj: 0.503810, .5R: 0.666667, .75R: 0.000000, count: 6, class_loss = 291.802368, iou_loss = 1.572815, total_loss = 293.375183 \n",
            "v3 (mse loss, Normalizer: (iou: 0.75, cls: 1.00) Region 94 Avg (IOU: 0.375871, GIOU: 0.357210), Class: 0.492602, Obj: 0.425517, No Obj: 0.513544, .5R: 0.400000, .75R: 0.000000, count: 5, class_loss = 1215.050781, iou_loss = 3.729736, total_loss = 1218.780518 \n",
            "v3 (mse loss, Normalizer: (iou: 0.75, cls: 1.00) Region 106 Avg (IOU: 0.000000, GIOU: 0.000000), Class: 0.000000, Obj: 0.000000, No Obj: 0.528990, .5R: 0.000000, .75R: 0.000000, count: 1, class_loss = 5089.082520, iou_loss = 0.000000, total_loss = 5089.082520 \n",
            " total_bbox = 550, rewritten_bbox = 0.545455 % \n",
            "v3 (mse loss, Normalizer: (iou: 0.75, cls: 1.00) Region 82 Avg (IOU: 0.396497, GIOU: 0.396498), Class: 0.676123, Obj: 0.403353, No Obj: 0.503725, .5R: 0.000000, .75R: 0.000000, count: 1, class_loss = 291.371338, iou_loss = 0.406219, total_loss = 291.777557 \n",
            "v3 (mse loss, Normalizer: (iou: 0.75, cls: 1.00) Region 94 Avg (IOU: 0.365148, GIOU: 0.244987), Class: 0.436948, Obj: 0.645377, No Obj: 0.514045, .5R: 0.250000, .75R: 0.000000, count: 8, class_loss = 1215.982056, iou_loss = 5.679932, total_loss = 1221.661987 \n",
            "v3 (mse loss, Normalizer: (iou: 0.75, cls: 1.00) Region 106 Avg (IOU: 0.386661, GIOU: 0.355395), Class: 0.568049, Obj: 0.789483, No Obj: 0.529177, .5R: 0.400000, .75R: 0.000000, count: 5, class_loss = 5088.454590, iou_loss = 4.064941, total_loss = 5092.519531 \n",
            " total_bbox = 564, rewritten_bbox = 0.531915 % \n",
            "v3 (mse loss, Normalizer: (iou: 0.75, cls: 1.00) Region 82 Avg (IOU: 0.470618, GIOU: 0.426171), Class: 0.408371, Obj: 0.553860, No Obj: 0.503621, .5R: 0.500000, .75R: 0.000000, count: 4, class_loss = 291.438416, iou_loss = 1.720215, total_loss = 293.158630 \n",
            "v3 (mse loss, Normalizer: (iou: 0.75, cls: 1.00) Region 94 Avg (IOU: 0.285562, GIOU: 0.285563), Class: 0.399043, Obj: 0.775947, No Obj: 0.513783, .5R: 0.000000, .75R: 0.000000, count: 1, class_loss = 1214.063843, iou_loss = 0.593872, total_loss = 1214.657715 \n",
            "v3 (mse loss, Normalizer: (iou: 0.75, cls: 1.00) Region 106 Avg (IOU: 0.127302, GIOU: -0.090262), Class: 0.432888, Obj: 0.577842, No Obj: 0.528912, .5R: 0.000000, .75R: 0.000000, count: 4, class_loss = 5088.863770, iou_loss = 9.599609, total_loss = 5098.463379 \n",
            " total_bbox = 573, rewritten_bbox = 0.523560 % \n",
            "\n",
            " 2: 2204.356934, 2206.376953 avg loss, 0.000000 rate, 5.681168 seconds, 128 images, 9.296080 hours left\n",
            "Loaded: 0.000055 seconds\n",
            "v3 (mse loss, Normalizer: (iou: 0.75, cls: 1.00) Region 82 Avg (IOU: 0.332136, GIOU: 0.303790), Class: 0.616553, Obj: 0.532803, No Obj: 0.503690, .5R: 0.000000, .75R: 0.000000, count: 4, class_loss = 292.186188, iou_loss = 2.284241, total_loss = 294.470428 \n",
            "v3 (mse loss, Normalizer: (iou: 0.75, cls: 1.00) Region 94 Avg (IOU: 0.298844, GIOU: 0.202441), Class: 0.661497, Obj: 0.634663, No Obj: 0.513527, .5R: 0.000000, .75R: 0.000000, count: 3, class_loss = 1213.227661, iou_loss = 2.490479, total_loss = 1215.718140 \n",
            "v3 (mse loss, Normalizer: (iou: 0.75, cls: 1.00) Region 106 Avg (IOU: 0.000000, GIOU: 0.000000), Class: 0.000000, Obj: 0.000000, No Obj: 0.528990, .5R: 0.000000, .75R: 0.000000, count: 1, class_loss = 5088.787598, iou_loss = 0.000000, total_loss = 5088.787598 \n",
            " total_bbox = 580, rewritten_bbox = 0.517241 % \n",
            "v3 (mse loss, Normalizer: (iou: 0.75, cls: 1.00) Region 82 Avg (IOU: 0.271181, GIOU: 0.007539), Class: 0.363943, Obj: 0.477380, No Obj: 0.503315, .5R: 0.000000, .75R: 0.000000, count: 2, class_loss = 291.596161, iou_loss = 2.297516, total_loss = 293.893677 \n",
            "v3 (mse loss, Normalizer: (iou: 0.75, cls: 1.00) Region 94 Avg (IOU: 0.330920, GIOU: 0.192968), Class: 0.370539, Obj: 0.627190, No Obj: 0.513062, .5R: 0.142857, .75R: 0.142857, count: 7, class_loss = 1210.419556, iou_loss = 7.999268, total_loss = 1218.418823 \n",
            "v3 (mse loss, Normalizer: (iou: 0.75, cls: 1.00) Region 106 Avg (IOU: 0.296500, GIOU: 0.242635), Class: 0.373873, Obj: 0.528702, No Obj: 0.528811, .5R: 0.000000, .75R: 0.000000, count: 8, class_loss = 5083.073730, iou_loss = 7.892090, total_loss = 5090.965820 \n",
            " total_bbox = 597, rewritten_bbox = 0.502513 % \n",
            "v3 (mse loss, Normalizer: (iou: 0.75, cls: 1.00) Region 82 Avg (IOU: 0.306634, GIOU: 0.149093), Class: 0.493453, Obj: 0.783564, No Obj: 0.503157, .5R: 0.000000, .75R: 0.000000, count: 2, class_loss = 290.837769, iou_loss = 1.820251, total_loss = 292.658020 \n",
            "v3 (mse loss, Normalizer: (iou: 0.75, cls: 1.00) Region 94 Avg (IOU: 0.375027, GIOU: 0.271585), Class: 0.560625, Obj: 0.665737, No Obj: 0.513389, .5R: 0.363636, .75R: 0.000000, count: 11, class_loss = 1213.940674, iou_loss = 9.193237, total_loss = 1223.133911 \n",
            "v3 (mse loss, Normalizer: (iou: 0.75, cls: 1.00) Region 106 Avg (IOU: 0.000000, GIOU: 0.000000), Class: 0.000000, Obj: 0.000000, No Obj: 0.528637, .5R: 0.000000, .75R: 0.000000, count: 1, class_loss = 5082.148926, iou_loss = 0.000000, total_loss = 5082.148926 \n",
            " total_bbox = 610, rewritten_bbox = 0.491803 % \n",
            "v3 (mse loss, Normalizer: (iou: 0.75, cls: 1.00) Region 82 Avg (IOU: 0.303176, GIOU: 0.297323), Class: 0.576114, Obj: 0.425775, No Obj: 0.503978, .5R: 0.250000, .75R: 0.000000, count: 4, class_loss = 291.765747, iou_loss = 3.244537, total_loss = 295.010284 \n",
            "v3 (mse loss, Normalizer: (iou: 0.75, cls: 1.00) Region 94 Avg (IOU: 0.000000, GIOU: 0.000000), Class: 0.000000, Obj: 0.000000, No Obj: 0.513394, .5R: 0.000000, .75R: 0.000000, count: 1, class_loss = 1211.047119, iou_loss = 0.000000, total_loss = 1211.047119 \n",
            "v3 (mse loss, Normalizer: (iou: 0.75, cls: 1.00) Region 106 Avg (IOU: 0.000000, GIOU: 0.000000), Class: 0.000000, Obj: 0.000000, No Obj: 0.527975, .5R: 0.000000, .75R: 0.000000, count: 1, class_loss = 5062.390137, iou_loss = 0.000000, total_loss = 5062.390137 \n",
            " total_bbox = 614, rewritten_bbox = 0.488599 % \n",
            "v3 (mse loss, Normalizer: (iou: 0.75, cls: 1.00) Region 82 Avg (IOU: 0.267403, GIOU: 0.232749), Class: 0.608952, Obj: 0.641298, No Obj: 0.503461, .5R: 0.000000, .75R: 0.000000, count: 1, class_loss = 292.088898, iou_loss = 0.887604, total_loss = 292.976501 \n",
            "v3 (mse loss, Normalizer: (iou: 0.75, cls: 1.00) Region 94 Avg (IOU: 0.385255, GIOU: 0.309789), Class: 0.439476, Obj: 0.604445, No Obj: 0.513737, .5R: 0.153846, .75R: 0.000000, count: 13, class_loss = 1215.078369, iou_loss = 8.614380, total_loss = 1223.692749 \n",
            "v3 (mse loss, Normalizer: (iou: 0.75, cls: 1.00) Region 106 Avg (IOU: 0.339971, GIOU: 0.225622), Class: 0.435684, Obj: 0.537348, No Obj: 0.528939, .5R: 0.200000, .75R: 0.000000, count: 5, class_loss = 5091.132812, iou_loss = 3.258789, total_loss = 5094.391602 \n",
            " total_bbox = 633, rewritten_bbox = 0.473934 % \n",
            "v3 (mse loss, Normalizer: (iou: 0.75, cls: 1.00) Region 82 Avg (IOU: 0.498960, GIOU: 0.492144), Class: 0.573435, Obj: 0.577584, No Obj: 0.502360, .5R: 0.333333, .75R: 0.000000, count: 3, class_loss = 290.103058, iou_loss = 1.033478, total_loss = 291.136536 \n",
            "v3 (mse loss, Normalizer: (iou: 0.75, cls: 1.00) Region 94 Avg (IOU: 0.099551, GIOU: -0.089021), Class: 0.158490, Obj: 0.602641, No Obj: 0.513272, .5R: 0.000000, .75R: 0.000000, count: 2, class_loss = 1213.433838, iou_loss = 4.771484, total_loss = 1218.205322 \n",
            "v3 (mse loss, Normalizer: (iou: 0.75, cls: 1.00) Region 106 Avg (IOU: 0.066833, GIOU: 0.066832), Class: 0.423169, Obj: 0.702457, No Obj: 0.528961, .5R: 0.000000, .75R: 0.000000, count: 2, class_loss = 5086.609863, iou_loss = 6.517578, total_loss = 5093.127441 \n",
            " total_bbox = 640, rewritten_bbox = 0.468750 % \n",
            "v3 (mse loss, Normalizer: (iou: 0.75, cls: 1.00) Region 82 Avg (IOU: 0.325374, GIOU: 0.188164), Class: 0.706867, Obj: 0.611587, No Obj: 0.503076, .5R: 0.000000, .75R: 0.000000, count: 2, class_loss = 290.543274, iou_loss = 1.313843, total_loss = 291.857117 \n",
            "v3 (mse loss, Normalizer: (iou: 0.75, cls: 1.00) Region 94 Avg (IOU: 0.290907, GIOU: 0.239556), Class: 0.432212, Obj: 0.445300, No Obj: 0.513103, .5R: 0.166667, .75R: 0.000000, count: 12, class_loss = 1214.212158, iou_loss = 11.348877, total_loss = 1225.561035 \n",
            "v3 (mse loss, Normalizer: (iou: 0.75, cls: 1.00) Region 106 Avg (IOU: 0.341491, GIOU: 0.282805), Class: 0.252083, Obj: 0.653673, No Obj: 0.528337, .5R: 0.000000, .75R: 0.000000, count: 3, class_loss = 5078.676270, iou_loss = 2.067383, total_loss = 5080.743652 \n",
            " total_bbox = 657, rewritten_bbox = 0.456621 % \n",
            "v3 (mse loss, Normalizer: (iou: 0.75, cls: 1.00) Region 82 Avg (IOU: 0.466684, GIOU: 0.425849), Class: 0.569661, Obj: 0.473691, No Obj: 0.503175, .5R: 0.400000, .75R: 0.000000, count: 5, class_loss = 291.426239, iou_loss = 2.537811, total_loss = 293.964050 \n",
            "v3 (mse loss, Normalizer: (iou: 0.75, cls: 1.00) Region 94 Avg (IOU: 0.291807, GIOU: 0.134938), Class: 0.465387, Obj: 0.548966, No Obj: 0.513333, .5R: 0.076923, .75R: 0.000000, count: 13, class_loss = 1213.897949, iou_loss = 13.922485, total_loss = 1227.820435 \n",
            "v3 (mse loss, Normalizer: (iou: 0.75, cls: 1.00) Region 106 Avg (IOU: 0.381203, GIOU: 0.318586), Class: 0.446965, Obj: 0.669651, No Obj: 0.528986, .5R: 0.333333, .75R: 0.000000, count: 3, class_loss = 5092.901855, iou_loss = 2.215332, total_loss = 5095.117188 \n",
            " total_bbox = 678, rewritten_bbox = 0.442478 % \n",
            "v3 (mse loss, Normalizer: (iou: 0.75, cls: 1.00) Region 82 Avg (IOU: 0.291893, GIOU: 0.180226), Class: 0.670172, Obj: 0.440087, No Obj: 0.502986, .5R: 0.000000, .75R: 0.000000, count: 2, class_loss = 290.405823, iou_loss = 2.165009, total_loss = 292.570831 \n",
            "v3 (mse loss, Normalizer: (iou: 0.75, cls: 1.00) Region 94 Avg (IOU: 0.230401, GIOU: 0.211780), Class: 0.354575, Obj: 0.452279, No Obj: 0.513172, .5R: 0.000000, .75R: 0.000000, count: 3, class_loss = 1210.038940, iou_loss = 3.036133, total_loss = 1213.075073 \n",
            "v3 (mse loss, Normalizer: (iou: 0.75, cls: 1.00) Region 106 Avg (IOU: 0.000000, GIOU: 0.000000), Class: 0.000000, Obj: 0.000000, No Obj: 0.528431, .5R: 0.000000, .75R: 0.000000, count: 1, class_loss = 5074.254883, iou_loss = 0.000000, total_loss = 5074.254883 \n",
            " total_bbox = 683, rewritten_bbox = 0.439239 % \n",
            "v3 (mse loss, Normalizer: (iou: 0.75, cls: 1.00) Region 82 Avg (IOU: 0.383845, GIOU: 0.275608), Class: 0.592649, Obj: 0.513446, No Obj: 0.503633, .5R: 0.500000, .75R: 0.000000, count: 2, class_loss = 290.701050, iou_loss = 1.214722, total_loss = 291.915771 \n",
            "v3 (mse loss, Normalizer: (iou: 0.75, cls: 1.00) Region 94 Avg (IOU: 0.302151, GIOU: 0.117420), Class: 0.471314, Obj: 0.498393, No Obj: 0.513064, .5R: 0.142857, .75R: 0.000000, count: 7, class_loss = 1211.697144, iou_loss = 7.960938, total_loss = 1219.658081 \n",
            "v3 (mse loss, Normalizer: (iou: 0.75, cls: 1.00) Region 106 Avg (IOU: 0.000000, GIOU: 0.000000), Class: 0.000000, Obj: 0.000000, No Obj: 0.528580, .5R: 0.000000, .75R: 0.000000, count: 1, class_loss = 5074.075195, iou_loss = 0.000000, total_loss = 5074.075195 \n",
            " total_bbox = 692, rewritten_bbox = 0.433526 % \n",
            "v3 (mse loss, Normalizer: (iou: 0.75, cls: 1.00) Region 82 Avg (IOU: 0.294444, GIOU: 0.027826), Class: 0.311393, Obj: 0.330665, No Obj: 0.503294, .5R: 0.000000, .75R: 0.000000, count: 1, class_loss = 291.211121, iou_loss = 0.736206, total_loss = 291.947327 \n",
            "v3 (mse loss, Normalizer: (iou: 0.75, cls: 1.00) Region 94 Avg (IOU: 0.406690, GIOU: 0.293079), Class: 0.397588, Obj: 0.531837, No Obj: 0.513474, .5R: 0.300000, .75R: 0.100000, count: 10, class_loss = 1215.397827, iou_loss = 5.958862, total_loss = 1221.356689 \n",
            "v3 (mse loss, Normalizer: (iou: 0.75, cls: 1.00) Region 106 Avg (IOU: 0.281753, GIOU: 0.118130), Class: 0.440331, Obj: 0.462012, No Obj: 0.529970, .5R: 0.181818, .75R: 0.000000, count: 11, class_loss = 5116.371582, iou_loss = 10.968262, total_loss = 5127.339844 \n",
            " total_bbox = 714, rewritten_bbox = 0.420168 % \n",
            "v3 (mse loss, Normalizer: (iou: 0.75, cls: 1.00) Region 82 Avg (IOU: 0.255141, GIOU: 0.204196), Class: 0.499758, Obj: 0.470857, No Obj: 0.502639, .5R: 0.000000, .75R: 0.000000, count: 4, class_loss = 290.811218, iou_loss = 3.152588, total_loss = 293.963806 \n",
            "v3 (mse loss, Normalizer: (iou: 0.75, cls: 1.00) Region 94 Avg (IOU: 0.000000, GIOU: 0.000000), Class: 0.000000, Obj: 0.000000, No Obj: 0.513159, .5R: 0.000000, .75R: 0.000000, count: 1, class_loss = 1211.875366, iou_loss = 0.000000, total_loss = 1211.875366 \n",
            "v3 (mse loss, Normalizer: (iou: 0.75, cls: 1.00) Region 106 Avg (IOU: 0.220867, GIOU: 0.105708), Class: 0.647031, Obj: 0.612285, No Obj: 0.528952, .5R: 0.000000, .75R: 0.000000, count: 1, class_loss = 5085.723145, iou_loss = 1.295898, total_loss = 5087.019043 \n",
            " total_bbox = 719, rewritten_bbox = 0.417246 % \n",
            "v3 (mse loss, Normalizer: (iou: 0.75, cls: 1.00) Region 82 Avg (IOU: 0.435809, GIOU: 0.373466), Class: 0.697757, Obj: 0.462491, No Obj: 0.503206, .5R: 0.000000, .75R: 0.000000, count: 2, class_loss = 291.091614, iou_loss = 0.781586, total_loss = 291.873199 \n",
            "v3 (mse loss, Normalizer: (iou: 0.75, cls: 1.00) Region 94 Avg (IOU: 0.272633, GIOU: 0.082462), Class: 0.449588, Obj: 0.596641, No Obj: 0.513854, .5R: 0.076923, .75R: 0.000000, count: 13, class_loss = 1216.324219, iou_loss = 15.992065, total_loss = 1232.316284 \n",
            "v3 (mse loss, Normalizer: (iou: 0.75, cls: 1.00) Region 106 Avg (IOU: 0.359994, GIOU: 0.229549), Class: 0.488811, Obj: 0.676676, No Obj: 0.529193, .5R: 0.333333, .75R: 0.000000, count: 3, class_loss = 5093.136230, iou_loss = 1.867676, total_loss = 5095.003906 \n",
            " total_bbox = 737, rewritten_bbox = 0.407056 % \n",
            "v3 (mse loss, Normalizer: (iou: 0.75, cls: 1.00) Region 82 Avg (IOU: 0.000000, GIOU: 0.000000), Class: 0.000000, Obj: 0.000000, No Obj: 0.503504, .5R: 0.000000, .75R: 0.000000, count: 1, class_loss = 291.093811, iou_loss = 0.000000, total_loss = 291.093811 \n",
            "v3 (mse loss, Normalizer: (iou: 0.75, cls: 1.00) Region 94 Avg (IOU: 0.370252, GIOU: 0.220610), Class: 0.526134, Obj: 0.563912, No Obj: 0.513887, .5R: 0.318182, .75R: 0.000000, count: 22, class_loss = 1219.693481, iou_loss = 19.715332, total_loss = 1239.408813 \n",
            "v3 (mse loss, Normalizer: (iou: 0.75, cls: 1.00) Region 106 Avg (IOU: 0.141093, GIOU: 0.080919), Class: 0.254690, Obj: 0.673148, No Obj: 0.529397, .5R: 0.000000, .75R: 0.000000, count: 2, class_loss = 5101.689941, iou_loss = 3.112305, total_loss = 5104.802246 \n",
            " total_bbox = 761, rewritten_bbox = 0.394218 % \n",
            "v3 (mse loss, Normalizer: (iou: 0.75, cls: 1.00) Region 82 Avg (IOU: 0.317842, GIOU: 0.317841), Class: 0.570191, Obj: 0.438673, No Obj: 0.503293, .5R: 0.333333, .75R: 0.000000, count: 3, class_loss = 290.385803, iou_loss = 1.825745, total_loss = 292.211548 \n",
            "v3 (mse loss, Normalizer: (iou: 0.75, cls: 1.00) Region 94 Avg (IOU: 0.225986, GIOU: -0.131914), Class: 0.050615, Obj: 0.270879, No Obj: 0.513666, .5R: 0.000000, .75R: 0.000000, count: 1, class_loss = 1212.951782, iou_loss = 1.237793, total_loss = 1214.189575 \n",
            "v3 (mse loss, Normalizer: (iou: 0.75, cls: 1.00) Region 106 Avg (IOU: 0.000000, GIOU: 0.000000), Class: 0.000000, Obj: 0.000000, No Obj: 0.528090, .5R: 0.000000, .75R: 0.000000, count: 1, class_loss = 5069.153809, iou_loss = 0.000000, total_loss = 5069.153809 \n",
            " total_bbox = 765, rewritten_bbox = 0.392157 % \n",
            "v3 (mse loss, Normalizer: (iou: 0.75, cls: 1.00) Region 82 Avg (IOU: 0.394342, GIOU: 0.328839), Class: 0.527945, Obj: 0.567634, No Obj: 0.503745, .5R: 0.375000, .75R: 0.000000, count: 8, class_loss = 292.137939, iou_loss = 4.311096, total_loss = 296.449036 \n",
            "v3 (mse loss, Normalizer: (iou: 0.75, cls: 1.00) Region 94 Avg (IOU: 0.375271, GIOU: 0.289090), Class: 0.377592, Obj: 0.592628, No Obj: 0.513160, .5R: 0.250000, .75R: 0.000000, count: 8, class_loss = 1211.343384, iou_loss = 6.947144, total_loss = 1218.290527 \n",
            "v3 (mse loss, Normalizer: (iou: 0.75, cls: 1.00) Region 106 Avg (IOU: 0.000000, GIOU: 0.000000), Class: 0.000000, Obj: 0.000000, No Obj: 0.528534, .5R: 0.000000, .75R: 0.000000, count: 1, class_loss = 5072.476562, iou_loss = 0.000000, total_loss = 5072.476562 \n",
            " total_bbox = 781, rewritten_bbox = 0.384123 % \n",
            "\n",
            " 3: 2200.282471, 2205.767578 avg loss, 0.000000 rate, 5.623092 seconds, 192 images, 9.297775 hours left\n",
            "Loaded: 0.000040 seconds\n",
            "v3 (mse loss, Normalizer: (iou: 0.75, cls: 1.00) Region 82 Avg (IOU: 0.000000, GIOU: 0.000000), Class: 0.000000, Obj: 0.000000, No Obj: 0.503611, .5R: 0.000000, .75R: 0.000000, count: 1, class_loss = 291.431244, iou_loss = 0.000000, total_loss = 291.431244 \n",
            "v3 (mse loss, Normalizer: (iou: 0.75, cls: 1.00) Region 94 Avg (IOU: 0.374387, GIOU: 0.219806), Class: 0.359237, Obj: 0.473919, No Obj: 0.513763, .5R: 0.285714, .75R: 0.000000, count: 14, class_loss = 1217.827759, iou_loss = 11.056030, total_loss = 1228.883789 \n",
            "v3 (mse loss, Normalizer: (iou: 0.75, cls: 1.00) Region 106 Avg (IOU: 0.297508, GIOU: 0.166451), Class: 0.467442, Obj: 0.513219, No Obj: 0.529529, .5R: 0.070423, .75R: 0.000000, count: 71, class_loss = 5113.879883, iou_loss = 67.417969, total_loss = 5181.297852 \n",
            " total_bbox = 866, rewritten_bbox = 0.346420 % \n",
            "v3 (mse loss, Normalizer: (iou: 0.75, cls: 1.00) Region 82 Avg (IOU: 0.346817, GIOU: 0.241729), Class: 0.447665, Obj: 0.477104, No Obj: 0.503012, .5R: 0.000000, .75R: 0.000000, count: 1, class_loss = 290.521637, iou_loss = 0.531311, total_loss = 291.052948 \n",
            "v3 (mse loss, Normalizer: (iou: 0.75, cls: 1.00) Region 94 Avg (IOU: 0.288951, GIOU: 0.064351), Class: 0.407856, Obj: 0.574338, No Obj: 0.513971, .5R: 0.055556, .75R: 0.000000, count: 18, class_loss = 1220.110229, iou_loss = 20.460571, total_loss = 1240.570801 \n",
            "v3 (mse loss, Normalizer: (iou: 0.75, cls: 1.00) Region 106 Avg (IOU: 0.335339, GIOU: 0.246920), Class: 0.351271, Obj: 0.472063, No Obj: 0.529370, .5R: 0.333333, .75R: 0.000000, count: 3, class_loss = 5099.557617, iou_loss = 1.604004, total_loss = 5101.161621 \n",
            " total_bbox = 888, rewritten_bbox = 0.337838 % \n",
            "v3 (mse loss, Normalizer: (iou: 0.75, cls: 1.00) Region 82 Avg (IOU: 0.000000, GIOU: 0.000000), Class: 0.000000, Obj: 0.000000, No Obj: 0.503496, .5R: 0.000000, .75R: 0.000000, count: 1, class_loss = 290.688751, iou_loss = 0.000000, total_loss = 290.688751 \n",
            "v3 (mse loss, Normalizer: (iou: 0.75, cls: 1.00) Region 94 Avg (IOU: 0.355753, GIOU: 0.211120), Class: 0.443887, Obj: 0.529538, No Obj: 0.513843, .5R: 0.263158, .75R: 0.000000, count: 19, class_loss = 1220.983398, iou_loss = 16.521240, total_loss = 1237.504639 \n",
            "v3 (mse loss, Normalizer: (iou: 0.75, cls: 1.00) Region 106 Avg (IOU: 0.270142, GIOU: 0.240292), Class: 0.461893, Obj: 0.610984, No Obj: 0.529580, .5R: 0.000000, .75R: 0.000000, count: 5, class_loss = 5111.109863, iou_loss = 4.667969, total_loss = 5115.777832 \n",
            " total_bbox = 912, rewritten_bbox = 0.328947 % \n",
            "v3 (mse loss, Normalizer: (iou: 0.75, cls: 1.00) Region 82 Avg (IOU: 0.479506, GIOU: 0.427784), Class: 0.406940, Obj: 0.454392, No Obj: 0.503157, .5R: 0.600000, .75R: 0.000000, count: 5, class_loss = 291.832794, iou_loss = 2.066650, total_loss = 293.899445 \n",
            "v3 (mse loss, Normalizer: (iou: 0.75, cls: 1.00) Region 94 Avg (IOU: 0.341769, GIOU: 0.242726), Class: 0.424961, Obj: 0.527850, No Obj: 0.513729, .5R: 0.166667, .75R: 0.000000, count: 18, class_loss = 1217.665894, iou_loss = 14.751343, total_loss = 1232.417236 \n",
            "v3 (mse loss, Normalizer: (iou: 0.75, cls: 1.00) Region 106 Avg (IOU: 0.343187, GIOU: 0.201602), Class: 0.483529, Obj: 0.602108, No Obj: 0.529842, .5R: 0.000000, .75R: 0.000000, count: 4, class_loss = 5103.607422, iou_loss = 2.510742, total_loss = 5106.118164 \n",
            " total_bbox = 939, rewritten_bbox = 0.319489 % \n",
            "v3 (mse loss, Normalizer: (iou: 0.75, cls: 1.00) Region 82 Avg (IOU: 0.500927, GIOU: 0.417930), Class: 0.531377, Obj: 0.475051, No Obj: 0.503761, .5R: 1.000000, .75R: 0.000000, count: 1, class_loss = 291.486145, iou_loss = 0.346710, total_loss = 291.832855 \n",
            "v3 (mse loss, Normalizer: (iou: 0.75, cls: 1.00) Region 94 Avg (IOU: 0.276504, GIOU: -0.018596), Class: 0.475487, Obj: 0.462719, No Obj: 0.514054, .5R: 0.090909, .75R: 0.000000, count: 11, class_loss = 1220.182251, iou_loss = 14.160645, total_loss = 1234.342896 \n",
            "v3 (mse loss, Normalizer: (iou: 0.75, cls: 1.00) Region 106 Avg (IOU: 0.374143, GIOU: 0.366961), Class: 0.481056, Obj: 0.522372, No Obj: 0.529853, .5R: 0.500000, .75R: 0.000000, count: 2, class_loss = 5111.145996, iou_loss = 1.374512, total_loss = 5112.520508 \n",
            " total_bbox = 953, rewritten_bbox = 0.314795 % \n",
            "v3 (mse loss, Normalizer: (iou: 0.75, cls: 1.00) Region 82 Avg (IOU: 0.380359, GIOU: 0.303684), Class: 0.570085, Obj: 0.654880, No Obj: 0.503217, .5R: 0.333333, .75R: 0.000000, count: 3, class_loss = 290.788147, iou_loss = 1.913452, total_loss = 292.701599 \n",
            "v3 (mse loss, Normalizer: (iou: 0.75, cls: 1.00) Region 94 Avg (IOU: 0.239267, GIOU: 0.016652), Class: 0.489812, Obj: 0.507400, No Obj: 0.513631, .5R: 0.000000, .75R: 0.000000, count: 6, class_loss = 1215.118042, iou_loss = 10.256104, total_loss = 1225.374146 \n",
            "v3 (mse loss, Normalizer: (iou: 0.75, cls: 1.00) Region 106 Avg (IOU: 0.000000, GIOU: 0.000000), Class: 0.000000, Obj: 0.000000, No Obj: 0.528975, .5R: 0.000000, .75R: 0.000000, count: 1, class_loss = 5086.778320, iou_loss = 0.000000, total_loss = 5086.778320 \n",
            " total_bbox = 962, rewritten_bbox = 0.311850 % \n",
            "v3 (mse loss, Normalizer: (iou: 0.75, cls: 1.00) Region 82 Avg (IOU: 0.220923, GIOU: 0.110831), Class: 0.563310, Obj: 0.516652, No Obj: 0.503906, .5R: 0.000000, .75R: 0.000000, count: 3, class_loss = 292.298676, iou_loss = 4.786743, total_loss = 297.085419 \n",
            "v3 (mse loss, Normalizer: (iou: 0.75, cls: 1.00) Region 94 Avg (IOU: 0.415099, GIOU: 0.286041), Class: 0.528777, Obj: 0.569860, No Obj: 0.513527, .5R: 0.333333, .75R: 0.166667, count: 6, class_loss = 1215.902954, iou_loss = 3.600586, total_loss = 1219.503540 \n",
            "v3 (mse loss, Normalizer: (iou: 0.75, cls: 1.00) Region 106 Avg (IOU: 0.374668, GIOU: 0.344156), Class: 0.601621, Obj: 0.468196, No Obj: 0.529366, .5R: 0.333333, .75R: 0.000000, count: 3, class_loss = 5102.343262, iou_loss = 1.479004, total_loss = 5103.822266 \n",
            " total_bbox = 974, rewritten_bbox = 0.308008 % \n",
            "v3 (mse loss, Normalizer: (iou: 0.75, cls: 1.00) Region 82 Avg (IOU: 0.295258, GIOU: 0.270269), Class: 0.755463, Obj: 0.517339, No Obj: 0.503913, .5R: 0.500000, .75R: 0.000000, count: 2, class_loss = 291.927185, iou_loss = 4.008972, total_loss = 295.936157 \n",
            "v3 (mse loss, Normalizer: (iou: 0.75, cls: 1.00) Region 94 Avg (IOU: 0.482761, GIOU: 0.419207), Class: 0.431779, Obj: 0.614811, No Obj: 0.513344, .5R: 0.333333, .75R: 0.000000, count: 3, class_loss = 1213.315552, iou_loss = 0.957764, total_loss = 1214.273315 \n",
            "v3 (mse loss, Normalizer: (iou: 0.75, cls: 1.00) Region 106 Avg (IOU: 0.108206, GIOU: -0.048320), Class: 0.167651, Obj: 0.412561, No Obj: 0.528695, .5R: 0.000000, .75R: 0.000000, count: 1, class_loss = 5085.519531, iou_loss = 2.876465, total_loss = 5088.395996 \n",
            " total_bbox = 980, rewritten_bbox = 0.306122 % \n",
            "v3 (mse loss, Normalizer: (iou: 0.75, cls: 1.00) Region 82 Avg (IOU: 0.462836, GIOU: 0.424478), Class: 0.715831, Obj: 0.306161, No Obj: 0.503617, .5R: 0.333333, .75R: 0.000000, count: 3, class_loss = 291.050751, iou_loss = 1.437408, total_loss = 292.488159 \n",
            "v3 (mse loss, Normalizer: (iou: 0.75, cls: 1.00) Region 94 Avg (IOU: 0.344680, GIOU: 0.249885), Class: 0.499257, Obj: 0.552988, No Obj: 0.513431, .5R: 0.000000, .75R: 0.000000, count: 3, class_loss = 1213.854370, iou_loss = 1.974365, total_loss = 1215.828735 \n",
            "v3 (mse loss, Normalizer: (iou: 0.75, cls: 1.00) Region 106 Avg (IOU: 0.375503, GIOU: 0.237779), Class: 0.532189, Obj: 0.632480, No Obj: 0.529069, .5R: 0.428571, .75R: 0.000000, count: 7, class_loss = 5096.655273, iou_loss = 9.138184, total_loss = 5105.793457 \n",
            " total_bbox = 993, rewritten_bbox = 0.302115 % \n",
            "v3 (mse loss, Normalizer: (iou: 0.75, cls: 1.00) Region 82 Avg (IOU: 0.156494, GIOU: 0.011784), Class: 0.555417, Obj: 0.477318, No Obj: 0.503777, .5R: 0.000000, .75R: 0.000000, count: 2, class_loss = 291.654877, iou_loss = 3.026062, total_loss = 294.680939 \n",
            "v3 (mse loss, Normalizer: (iou: 0.75, cls: 1.00) Region 94 Avg (IOU: 0.493645, GIOU: 0.470803), Class: 0.257861, Obj: 0.488442, No Obj: 0.513480, .5R: 0.666667, .75R: 0.000000, count: 3, class_loss = 1214.736694, iou_loss = 0.937500, total_loss = 1215.674194 \n",
            "v3 (mse loss, Normalizer: (iou: 0.75, cls: 1.00) Region 106 Avg (IOU: 0.303268, GIOU: 0.186998), Class: 0.624978, Obj: 0.558134, No Obj: 0.529435, .5R: 0.000000, .75R: 0.000000, count: 1, class_loss = 5099.164062, iou_loss = 0.559082, total_loss = 5099.723145 \n",
            " total_bbox = 999, rewritten_bbox = 0.300300 % \n",
            "v3 (mse loss, Normalizer: (iou: 0.75, cls: 1.00) Region 82 Avg (IOU: 0.111414, GIOU: 0.111414), Class: 0.443337, Obj: 0.514501, No Obj: 0.503579, .5R: 0.000000, .75R: 0.000000, count: 4, class_loss = 292.146729, iou_loss = 10.134277, total_loss = 302.281006 \n",
            "v3 (mse loss, Normalizer: (iou: 0.75, cls: 1.00) Region 94 Avg (IOU: 0.528635, GIOU: 0.503664), Class: 0.621312, Obj: 0.528996, No Obj: 0.513709, .5R: 0.714286, .75R: 0.000000, count: 7, class_loss = 1217.208984, iou_loss = 1.868042, total_loss = 1219.077026 \n",
            "v3 (mse loss, Normalizer: (iou: 0.75, cls: 1.00) Region 106 Avg (IOU: 0.339932, GIOU: 0.201299), Class: 0.456712, Obj: 0.572117, No Obj: 0.529479, .5R: 0.153846, .75R: 0.019231, count: 52, class_loss = 5109.336426, iou_loss = 41.908203, total_loss = 5151.244629 \n",
            " total_bbox = 1062, rewritten_bbox = 0.282486 % \n",
            "v3 (mse loss, Normalizer: (iou: 0.75, cls: 1.00) Region 82 Avg (IOU: 0.159085, GIOU: 0.010837), Class: 0.589029, Obj: 0.541198, No Obj: 0.503759, .5R: 0.000000, .75R: 0.000000, count: 3, class_loss = 291.458618, iou_loss = 4.720856, total_loss = 296.179474 \n",
            "v3 (mse loss, Normalizer: (iou: 0.75, cls: 1.00) Region 94 Avg (IOU: 0.284395, GIOU: 0.156763), Class: 0.205349, Obj: 0.505421, No Obj: 0.513388, .5R: 0.200000, .75R: 0.000000, count: 5, class_loss = 1214.305664, iou_loss = 4.804321, total_loss = 1219.109985 \n",
            "v3 (mse loss, Normalizer: (iou: 0.75, cls: 1.00) Region 106 Avg (IOU: 0.317742, GIOU: 0.215663), Class: 0.454020, Obj: 0.646712, No Obj: 0.529107, .5R: 0.208333, .75R: 0.000000, count: 48, class_loss = 5097.768555, iou_loss = 51.025391, total_loss = 5148.793945 \n",
            " total_bbox = 1118, rewritten_bbox = 0.268336 % \n",
            "v3 (mse loss, Normalizer: (iou: 0.75, cls: 1.00) Region 82 Avg (IOU: 0.243159, GIOU: 0.167171), Class: 0.535878, Obj: 0.359018, No Obj: 0.503397, .5R: 0.000000, .75R: 0.000000, count: 3, class_loss = 291.776825, iou_loss = 3.056305, total_loss = 294.833130 \n",
            "v3 (mse loss, Normalizer: (iou: 0.75, cls: 1.00) Region 94 Avg (IOU: 0.330782, GIOU: 0.066708), Class: 0.753551, Obj: 0.258729, No Obj: 0.513642, .5R: 0.000000, .75R: 0.000000, count: 3, class_loss = 1216.133423, iou_loss = 2.825073, total_loss = 1218.958496 \n",
            "v3 (mse loss, Normalizer: (iou: 0.75, cls: 1.00) Region 106 Avg (IOU: 0.220188, GIOU: 0.220188), Class: 0.575987, Obj: 0.800401, No Obj: 0.528736, .5R: 0.000000, .75R: 0.000000, count: 2, class_loss = 5086.901367, iou_loss = 3.584473, total_loss = 5090.485840 \n",
            " total_bbox = 1126, rewritten_bbox = 0.266430 % \n",
            "v3 (mse loss, Normalizer: (iou: 0.75, cls: 1.00) Region 82 Avg (IOU: 0.168011, GIOU: -0.274893), Class: 0.267356, Obj: 0.608350, No Obj: 0.503470, .5R: 0.000000, .75R: 0.000000, count: 1, class_loss = 291.652008, iou_loss = 1.704895, total_loss = 293.356903 \n",
            "v3 (mse loss, Normalizer: (iou: 0.75, cls: 1.00) Region 94 Avg (IOU: 0.260362, GIOU: 0.084064), Class: 0.344828, Obj: 0.470177, No Obj: 0.513701, .5R: 0.090909, .75R: 0.000000, count: 22, class_loss = 1217.847656, iou_loss = 31.204956, total_loss = 1249.052612 \n",
            "v3 (mse loss, Normalizer: (iou: 0.75, cls: 1.00) Region 106 Avg (IOU: 0.333129, GIOU: 0.227776), Class: 0.382020, Obj: 0.571990, No Obj: 0.528890, .5R: 0.200000, .75R: 0.000000, count: 5, class_loss = 5084.851562, iou_loss = 4.190918, total_loss = 5089.042480 \n",
            " total_bbox = 1154, rewritten_bbox = 0.259965 % \n",
            "v3 (mse loss, Normalizer: (iou: 0.75, cls: 1.00) Region 82 Avg (IOU: 0.326631, GIOU: 0.257979), Class: 0.497453, Obj: 0.501830, No Obj: 0.503226, .5R: 0.142857, .75R: 0.000000, count: 7, class_loss = 291.924835, iou_loss = 8.613861, total_loss = 300.538696 \n",
            "v3 (mse loss, Normalizer: (iou: 0.75, cls: 1.00) Region 94 Avg (IOU: 0.000000, GIOU: 0.000000), Class: 0.000000, Obj: 0.000000, No Obj: 0.513694, .5R: 0.000000, .75R: 0.000000, count: 1, class_loss = 1213.624634, iou_loss = 0.000000, total_loss = 1213.624634 \n",
            "v3 (mse loss, Normalizer: (iou: 0.75, cls: 1.00) Region 106 Avg (IOU: 0.000000, GIOU: 0.000000), Class: 0.000000, Obj: 0.000000, No Obj: 0.528577, .5R: 0.000000, .75R: 0.000000, count: 1, class_loss = 5082.786621, iou_loss = 0.000000, total_loss = 5082.786621 \n",
            " total_bbox = 1161, rewritten_bbox = 0.258398 % \n",
            "v3 (mse loss, Normalizer: (iou: 0.75, cls: 1.00) Region 82 Avg (IOU: 0.181721, GIOU: 0.059356), Class: 0.628849, Obj: 0.327703, No Obj: 0.502920, .5R: 0.000000, .75R: 0.000000, count: 2, class_loss = 290.603363, iou_loss = 3.737946, total_loss = 294.341309 \n",
            "v3 (mse loss, Normalizer: (iou: 0.75, cls: 1.00) Region 94 Avg (IOU: 0.280490, GIOU: 0.101451), Class: 0.354785, Obj: 0.530302, No Obj: 0.513047, .5R: 0.000000, .75R: 0.000000, count: 9, class_loss = 1211.530640, iou_loss = 8.741333, total_loss = 1220.271973 \n",
            "v3 (mse loss, Normalizer: (iou: 0.75, cls: 1.00) Region 106 Avg (IOU: 0.283911, GIOU: 0.126969), Class: 0.542427, Obj: 0.533254, No Obj: 0.528765, .5R: 0.222222, .75R: 0.000000, count: 9, class_loss = 5085.421387, iou_loss = 11.295898, total_loss = 5096.717285 \n",
            " total_bbox = 1181, rewritten_bbox = 0.254022 % \n",
            "\n",
            " 4: 2209.963623, 2206.187256 avg loss, 0.000000 rate, 5.984820 seconds, 256 images, 9.298470 hours left\n",
            "Loaded: 0.000061 seconds\n",
            "v3 (mse loss, Normalizer: (iou: 0.75, cls: 1.00) Region 82 Avg (IOU: 0.207346, GIOU: 0.195124), Class: 0.560593, Obj: 0.414794, No Obj: 0.502428, .5R: 0.000000, .75R: 0.000000, count: 2, class_loss = 289.881866, iou_loss = 3.175079, total_loss = 293.056946 \n",
            "v3 (mse loss, Normalizer: (iou: 0.75, cls: 1.00) Region 94 Avg (IOU: 0.187899, GIOU: 0.187899), Class: 0.694772, Obj: 0.292775, No Obj: 0.513520, .5R: 0.000000, .75R: 0.000000, count: 1, class_loss = 1213.014282, iou_loss = 0.923828, total_loss = 1213.938110 \n",
            "libpng warning: iCCP: Not recognizing known sRGB profile that has been edited\n",
            "v3 (mse loss, Normalizer: (iou: 0.75, cls: 1.00) Region 106 Avg (IOU: 0.280269, GIOU: 0.138301), Class: 0.475459, Obj: 0.558760, No Obj: 0.528855, .5R: 0.000000, .75R: 0.000000, count: 11, class_loss = 5086.035156, iou_loss = 12.839355, total_loss = 5098.874512 \n",
            " total_bbox = 1195, rewritten_bbox = 0.251046 % \n",
            "v3 (mse loss, Normalizer: (iou: 0.75, cls: 1.00) Region 82 Avg (IOU: 0.207130, GIOU: -0.208308), Class: 0.523662, Obj: 0.561487, No Obj: 0.503644, .5R: 0.000000, .75R: 0.000000, count: 2, class_loss = 291.404694, iou_loss = 2.979156, total_loss = 294.383850 \n",
            "v3 (mse loss, Normalizer: (iou: 0.75, cls: 1.00) Region 94 Avg (IOU: 0.296982, GIOU: 0.121413), Class: 0.393670, Obj: 0.452142, No Obj: 0.513678, .5R: 0.111111, .75R: 0.000000, count: 27, class_loss = 1222.188721, iou_loss = 29.213989, total_loss = 1251.402710 \n",
            "v3 (mse loss, Normalizer: (iou: 0.75, cls: 1.00) Region 106 Avg (IOU: 0.129869, GIOU: -0.224819), Class: 0.331169, Obj: 0.661481, No Obj: 0.530133, .5R: 0.000000, .75R: 0.000000, count: 2, class_loss = 5118.362305, iou_loss = 5.995117, total_loss = 5124.357422 \n",
            " total_bbox = 1226, rewritten_bbox = 0.244698 % \n",
            "v3 (mse loss, Normalizer: (iou: 0.75, cls: 1.00) Region 82 Avg (IOU: 0.259746, GIOU: 0.211834), Class: 0.543547, Obj: 0.592202, No Obj: 0.503582, .5R: 0.000000, .75R: 0.000000, count: 4, class_loss = 291.194580, iou_loss = 3.593567, total_loss = 294.788147 \n",
            "v3 (mse loss, Normalizer: (iou: 0.75, cls: 1.00) Region 94 Avg (IOU: 0.716227, GIOU: 0.715512), Class: 0.362927, Obj: 0.504996, No Obj: 0.513423, .5R: 1.000000, .75R: 0.000000, count: 1, class_loss = 1213.566162, iou_loss = 0.083496, total_loss = 1213.649658 \n",
            "v3 (mse loss, Normalizer: (iou: 0.75, cls: 1.00) Region 106 Avg (IOU: 0.000000, GIOU: 0.000000), Class: 0.000000, Obj: 0.000000, No Obj: 0.529294, .5R: 0.000000, .75R: 0.000000, count: 1, class_loss = 5099.669922, iou_loss = 0.000000, total_loss = 5099.669922 \n",
            " total_bbox = 1231, rewritten_bbox = 0.243704 % \n",
            "v3 (mse loss, Normalizer: (iou: 0.75, cls: 1.00) Region 82 Avg (IOU: 0.454032, GIOU: 0.428493), Class: 0.723768, Obj: 0.555867, No Obj: 0.503143, .5R: 0.500000, .75R: 0.000000, count: 2, class_loss = 290.957825, iou_loss = 0.685181, total_loss = 291.643005 \n",
            "v3 (mse loss, Normalizer: (iou: 0.75, cls: 1.00) Region 94 Avg (IOU: 0.274845, GIOU: 0.110424), Class: 0.383666, Obj: 0.509279, No Obj: 0.513695, .5R: 0.062500, .75R: 0.000000, count: 16, class_loss = 1217.649902, iou_loss = 18.419800, total_loss = 1236.069702 \n",
            "v3 (mse loss, Normalizer: (iou: 0.75, cls: 1.00) Region 106 Avg (IOU: 0.298697, GIOU: 0.208866), Class: 0.515853, Obj: 0.602460, No Obj: 0.529057, .5R: 0.000000, .75R: 0.000000, count: 7, class_loss = 5092.337891, iou_loss = 5.980957, total_loss = 5098.318848 \n",
            " total_bbox = 1256, rewritten_bbox = 0.238853 % \n",
            "v3 (mse loss, Normalizer: (iou: 0.75, cls: 1.00) Region 82 Avg (IOU: 0.311069, GIOU: 0.125530), Class: 0.634571, Obj: 0.502823, No Obj: 0.503370, .5R: 0.000000, .75R: 0.000000, count: 2, class_loss = 291.230194, iou_loss = 1.537323, total_loss = 292.767517 \n",
            "v3 (mse loss, Normalizer: (iou: 0.75, cls: 1.00) Region 94 Avg (IOU: 0.305188, GIOU: 0.136092), Class: 0.392983, Obj: 0.578839, No Obj: 0.513495, .5R: 0.214286, .75R: 0.000000, count: 14, class_loss = 1216.712646, iou_loss = 16.528564, total_loss = 1233.241211 \n",
            "v3 (mse loss, Normalizer: (iou: 0.75, cls: 1.00) Region 106 Avg (IOU: 0.000000, GIOU: 0.000000), Class: 0.000000, Obj: 0.000000, No Obj: 0.529302, .5R: 0.000000, .75R: 0.000000, count: 1, class_loss = 5094.776367, iou_loss = 0.000000, total_loss = 5094.776367 \n",
            " total_bbox = 1272, rewritten_bbox = 0.235849 % \n",
            "v3 (mse loss, Normalizer: (iou: 0.75, cls: 1.00) Region 82 Avg (IOU: 0.241622, GIOU: 0.008635), Class: 0.623899, Obj: 0.586589, No Obj: 0.502836, .5R: 0.000000, .75R: 0.000000, count: 2, class_loss = 289.914337, iou_loss = 2.315460, total_loss = 292.229797 \n",
            "v3 (mse loss, Normalizer: (iou: 0.75, cls: 1.00) Region 94 Avg (IOU: 0.295486, GIOU: 0.162184), Class: 0.425559, Obj: 0.579386, No Obj: 0.513150, .5R: 0.000000, .75R: 0.000000, count: 11, class_loss = 1210.999878, iou_loss = 9.789185, total_loss = 1220.789062 \n",
            "v3 (mse loss, Normalizer: (iou: 0.75, cls: 1.00) Region 106 Avg (IOU: 0.216870, GIOU: 0.195153), Class: 0.371700, Obj: 0.507262, No Obj: 0.528596, .5R: 0.000000, .75R: 0.000000, count: 3, class_loss = 5075.582031, iou_loss = 3.285645, total_loss = 5078.867676 \n",
            " total_bbox = 1288, rewritten_bbox = 0.232919 % \n",
            "v3 (mse loss, Normalizer: (iou: 0.75, cls: 1.00) Region 82 Avg (IOU: 0.509782, GIOU: 0.473219), Class: 0.491416, Obj: 0.452808, No Obj: 0.503953, .5R: 0.500000, .75R: 0.000000, count: 2, class_loss = 291.394592, iou_loss = 0.648804, total_loss = 292.043396 \n",
            "v3 (mse loss, Normalizer: (iou: 0.75, cls: 1.00) Region 94 Avg (IOU: 0.286060, GIOU: 0.086246), Class: 0.441364, Obj: 0.546507, No Obj: 0.513665, .5R: 0.000000, .75R: 0.000000, count: 7, class_loss = 1214.555054, iou_loss = 9.342041, total_loss = 1223.897095 \n",
            "v3 (mse loss, Normalizer: (iou: 0.75, cls: 1.00) Region 106 Avg (IOU: 0.239363, GIOU: 0.087093), Class: 0.409966, Obj: 0.560496, No Obj: 0.528810, .5R: 0.066667, .75R: 0.000000, count: 15, class_loss = 5087.239746, iou_loss = 25.437012, total_loss = 5112.676758 \n",
            " total_bbox = 1312, rewritten_bbox = 0.228659 % \n",
            "v3 (mse loss, Normalizer: (iou: 0.75, cls: 1.00) Region 82 Avg (IOU: 0.355647, GIOU: 0.217793), Class: 0.425926, Obj: 0.570549, No Obj: 0.503196, .5R: 0.250000, .75R: 0.000000, count: 4, class_loss = 291.006805, iou_loss = 2.605408, total_loss = 293.612213 \n",
            "v3 (mse loss, Normalizer: (iou: 0.75, cls: 1.00) Region 94 Avg (IOU: 0.330900, GIOU: 0.192615), Class: 0.382652, Obj: 0.589513, No Obj: 0.513723, .5R: 0.238095, .75R: 0.000000, count: 21, class_loss = 1216.703125, iou_loss = 20.768799, total_loss = 1237.471924 \n",
            "v3 (mse loss, Normalizer: (iou: 0.75, cls: 1.00) Region 106 Avg (IOU: 0.319043, GIOU: 0.138089), Class: 0.311056, Obj: 0.580456, No Obj: 0.529069, .5R: 0.166667, .75R: 0.000000, count: 6, class_loss = 5095.907715, iou_loss = 8.332031, total_loss = 5104.239746 \n",
            " total_bbox = 1343, rewritten_bbox = 0.223380 % \n",
            "v3 (mse loss, Normalizer: (iou: 0.75, cls: 1.00) Region 82 Avg (IOU: 0.394269, GIOU: 0.215119), Class: 0.386307, Obj: 0.502103, No Obj: 0.502985, .5R: 0.333333, .75R: 0.000000, count: 3, class_loss = 290.567139, iou_loss = 2.133484, total_loss = 292.700623 \n",
            "v3 (mse loss, Normalizer: (iou: 0.75, cls: 1.00) Region 94 Avg (IOU: 0.289613, GIOU: 0.289613), Class: 0.596282, Obj: 0.591917, No Obj: 0.513203, .5R: 0.200000, .75R: 0.000000, count: 5, class_loss = 1211.073975, iou_loss = 5.054565, total_loss = 1216.128540 \n",
            "v3 (mse loss, Normalizer: (iou: 0.75, cls: 1.00) Region 106 Avg (IOU: 0.184543, GIOU: 0.184543), Class: 0.194892, Obj: 0.858313, No Obj: 0.528715, .5R: 0.000000, .75R: 0.000000, count: 1, class_loss = 5084.661133, iou_loss = 0.922363, total_loss = 5085.583496 \n",
            " total_bbox = 1352, rewritten_bbox = 0.221893 % \n",
            "v3 (mse loss, Normalizer: (iou: 0.75, cls: 1.00) Region 82 Avg (IOU: 0.315619, GIOU: 0.067088), Class: 0.474940, Obj: 0.462890, No Obj: 0.503313, .5R: 0.000000, .75R: 0.000000, count: 2, class_loss = 290.862549, iou_loss = 1.411530, total_loss = 292.274078 \n",
            "v3 (mse loss, Normalizer: (iou: 0.75, cls: 1.00) Region 94 Avg (IOU: 0.335278, GIOU: 0.212178), Class: 0.462944, Obj: 0.490550, No Obj: 0.513798, .5R: 0.200000, .75R: 0.000000, count: 10, class_loss = 1216.890503, iou_loss = 7.309326, total_loss = 1224.199829 \n",
            "v3 (mse loss, Normalizer: (iou: 0.75, cls: 1.00) Region 106 Avg (IOU: 0.306911, GIOU: 0.174980), Class: 0.495229, Obj: 0.581365, No Obj: 0.529601, .5R: 0.222222, .75R: 0.000000, count: 18, class_loss = 5105.278809, iou_loss = 17.593262, total_loss = 5122.872070 \n",
            " total_bbox = 1382, rewritten_bbox = 0.217077 % \n",
            "v3 (mse loss, Normalizer: (iou: 0.75, cls: 1.00) Region 82 Avg (IOU: 0.214976, GIOU: -0.201233), Class: 0.516271, Obj: 0.555540, No Obj: 0.503512, .5R: 0.000000, .75R: 0.000000, count: 1, class_loss = 291.449951, iou_loss = 1.073639, total_loss = 292.523590 \n",
            "v3 (mse loss, Normalizer: (iou: 0.75, cls: 1.00) Region 94 Avg (IOU: 0.268229, GIOU: 0.120862), Class: 0.376898, Obj: 0.604455, No Obj: 0.513823, .5R: 0.214286, .75R: 0.000000, count: 14, class_loss = 1217.255127, iou_loss = 19.242798, total_loss = 1236.497925 \n",
            "v3 (mse loss, Normalizer: (iou: 0.75, cls: 1.00) Region 106 Avg (IOU: 0.357217, GIOU: 0.248515), Class: 0.460151, Obj: 0.486693, No Obj: 0.529468, .5R: 0.178862, .75R: 0.000000, count: 123, class_loss = 5126.409180, iou_loss = 73.392578, total_loss = 5199.801758 \n",
            " total_bbox = 1520, rewritten_bbox = 0.197368 % \n",
            "v3 (mse loss, Normalizer: (iou: 0.75, cls: 1.00) Region 82 Avg (IOU: 0.411785, GIOU: 0.327727), Class: 0.533158, Obj: 0.454872, No Obj: 0.503386, .5R: 0.250000, .75R: 0.000000, count: 4, class_loss = 291.319305, iou_loss = 1.758484, total_loss = 293.077789 \n",
            "v3 (mse loss, Normalizer: (iou: 0.75, cls: 1.00) Region 94 Avg (IOU: 0.307547, GIOU: 0.307547), Class: 0.455730, Obj: 0.658048, No Obj: 0.513404, .5R: 0.000000, .75R: 0.000000, count: 3, class_loss = 1213.148193, iou_loss = 2.047241, total_loss = 1215.195435 \n",
            "v3 (mse loss, Normalizer: (iou: 0.75, cls: 1.00) Region 106 Avg (IOU: 0.474602, GIOU: 0.420290), Class: 0.613077, Obj: 0.499289, No Obj: 0.529200, .5R: 0.000000, .75R: 0.000000, count: 1, class_loss = 5096.218262, iou_loss = 0.184082, total_loss = 5096.402344 \n",
            " total_bbox = 1528, rewritten_bbox = 0.196335 % \n",
            "v3 (mse loss, Normalizer: (iou: 0.75, cls: 1.00) Region 82 Avg (IOU: 0.377642, GIOU: 0.358745), Class: 0.429951, Obj: 0.391742, No Obj: 0.503680, .5R: 0.400000, .75R: 0.200000, count: 5, class_loss = 292.200012, iou_loss = 3.796661, total_loss = 295.996674 \n",
            "v3 (mse loss, Normalizer: (iou: 0.75, cls: 1.00) Region 94 Avg (IOU: 0.444902, GIOU: 0.313776), Class: 0.467529, Obj: 0.440303, No Obj: 0.513480, .5R: 0.333333, .75R: 0.000000, count: 3, class_loss = 1212.810181, iou_loss = 2.041138, total_loss = 1214.851318 \n",
            "v3 (mse loss, Normalizer: (iou: 0.75, cls: 1.00) Region 106 Avg (IOU: 0.121099, GIOU: -0.455759), Class: 0.330281, Obj: 0.405793, No Obj: 0.528709, .5R: 0.000000, .75R: 0.000000, count: 1, class_loss = 5080.403320, iou_loss = 2.760742, total_loss = 5083.164062 \n",
            " total_bbox = 1537, rewritten_bbox = 0.195185 % \n",
            "v3 (mse loss, Normalizer: (iou: 0.75, cls: 1.00) Region 82 Avg (IOU: 0.000000, GIOU: 0.000000), Class: 0.000000, Obj: 0.000000, No Obj: 0.502979, .5R: 0.000000, .75R: 0.000000, count: 1, class_loss = 290.389587, iou_loss = 0.000000, total_loss = 290.389587 \n",
            "v3 (mse loss, Normalizer: (iou: 0.75, cls: 1.00) Region 94 Avg (IOU: 0.367792, GIOU: 0.227981), Class: 0.434081, Obj: 0.587485, No Obj: 0.513673, .5R: 0.350000, .75R: 0.000000, count: 20, class_loss = 1217.297729, iou_loss = 17.062866, total_loss = 1234.360596 \n",
            "v3 (mse loss, Normalizer: (iou: 0.75, cls: 1.00) Region 106 Avg (IOU: 0.248567, GIOU: -0.013181), Class: 0.466967, Obj: 0.517071, No Obj: 0.529654, .5R: 0.100000, .75R: 0.000000, count: 10, class_loss = 5106.922852, iou_loss = 13.229980, total_loss = 5120.152832 \n",
            " total_bbox = 1567, rewritten_bbox = 0.191449 % \n"
          ],
          "name": "stdout"
        }
      ]
    },
    {
      "cell_type": "markdown",
      "metadata": {
        "id": "-Ex3Fs2Zx3Ff",
        "colab_type": "text"
      },
      "source": [
        "#Testing"
      ]
    },
    {
      "cell_type": "code",
      "metadata": {
        "id": "Zc0o8BLVx5Yy",
        "colab_type": "code",
        "colab": {}
      },
      "source": [
        "import cv2\n",
        "import numpy as np\n",
        "\n",
        "net = cv2.dnn.readNet('/mydrive/yolov3/yolov3_training_last.weights', '/mydrive/yolov3/yolov3_testing.cfg')\n",
        "\n",
        "classes = []\n",
        "with open(\"/mydrive/yolov3/classes.txt\", \"r\") as f:\n",
        "    classes = f.read().splitlines()\n",
        "\n",
        "cap = cv2.VideoCapture('/mydrive/yolov3/mygeneratedvideo.avi')\n",
        "font = cv2.FONT_HERSHEY_PLAIN\n",
        "colors = np.random.uniform(0, 255, size=(100, 3))\n",
        "\n",
        "while True:\n",
        "    _, img = cap.read()\n",
        "    height, width, _ = img.shape\n",
        "\n",
        "    blob = cv2.dnn.blobFromImage(img, 1/255, (416, 416), (0,0,0), swapRB=True, crop=False)\n",
        "    net.setInput(blob)\n",
        "    output_layers_names = net.getUnconnectedOutLayersNames()\n",
        "    layerOutputs = net.forward(output_layers_names)\n",
        "\n",
        "    boxes = []\n",
        "    confidences = []\n",
        "    class_ids = []\n",
        "\n",
        "    for output in layerOutputs:\n",
        "        for detection in output:\n",
        "            scores = detection[5:]\n",
        "            class_id = np.argmax(scores)\n",
        "            confidence = scores[class_id]\n",
        "            if confidence > 0.2:\n",
        "                center_x = int(detection[0]*width)\n",
        "                center_y = int(detection[1]*height)\n",
        "                w = int(detection[2]*width)\n",
        "                h = int(detection[3]*height)\n",
        "\n",
        "                x = int(center_x - w/2)\n",
        "                y = int(center_y - h/2)\n",
        "\n",
        "                boxes.append([x, y, w, h])\n",
        "                confidences.append((float(confidence)))\n",
        "                class_ids.append(class_id)\n",
        "\n",
        "    indexes = cv2.dnn.NMSBoxes(boxes, confidences, 0.2, 0.4)\n",
        "\n",
        "    if len(indexes)>0:\n",
        "        for i in indexes.flatten():\n",
        "            x, y, w, h = boxes[i]\n",
        "            label = str(classes[class_ids[i]])\n",
        "            confidence = str(round(confidences[i],2))\n",
        "            color = colors[i]\n",
        "            cv2.rectangle(img, (x,y), (x+w, y+h), color, 2)\n",
        "            cv2.putText(img, label + \" \" + confidence, (x, y+20), font, 2, (255,255,255), 2)\n",
        "    from google.colab.patches import cv2_imshow\n",
        "    cv2_imshow(img)\n",
        "    key = cv2.waitKey(1)\n",
        "    if key==27:\n",
        "        break\n",
        "\n",
        "cap.release()\n",
        "cv2.destroyAllWindows()"
      ],
      "execution_count": null,
      "outputs": []
    }
  ]
}